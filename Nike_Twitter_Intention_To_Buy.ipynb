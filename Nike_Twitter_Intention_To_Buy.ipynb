{
  "nbformat": 4,
  "nbformat_minor": 0,
  "metadata": {
    "colab": {
      "name": "Nike_Intention_To_Buy.ipynb",
      "provenance": [],
      "collapsed_sections": [
        "LWG7iErw_jes",
        "d-PHwb9i_fPO"
      ],
      "machine_shape": "hm"
    },
    "kernelspec": {
      "name": "python3",
      "display_name": "Python 3"
    },
    "language_info": {
      "name": "python"
    },
    "accelerator": "GPU"
  },
  "cells": [
    {
      "cell_type": "markdown",
      "metadata": {
        "id": "lUeIftJE-c7X"
      },
      "source": [
        "# Import Libraries"
      ]
    },
    {
      "cell_type": "code",
      "metadata": {
        "id": "Zcdnu0Li2bIn"
      },
      "source": [
        "import numpy as np\n",
        "import pandas as pd\n",
        "import matplotlib.pyplot as plt\n",
        "import seaborn as sns"
      ],
      "execution_count": 1,
      "outputs": []
    },
    {
      "cell_type": "markdown",
      "metadata": {
        "id": "ofhTMOGw-fsW"
      },
      "source": [
        "# Load Dataset"
      ]
    },
    {
      "cell_type": "code",
      "metadata": {
        "colab": {
          "base_uri": "https://localhost:8080/"
        },
        "id": "zY0upd_kKW74",
        "outputId": "c499c8d3-a5e2-42e9-d74a-cbbc6672a720"
      },
      "source": [
        "from google.colab import drive\n",
        "drive.mount('/content/drive')"
      ],
      "execution_count": 2,
      "outputs": [
        {
          "output_type": "stream",
          "name": "stdout",
          "text": [
            "Mounted at /content/drive\n"
          ]
        }
      ]
    },
    {
      "cell_type": "code",
      "metadata": {
        "id": "feqaLyTg2lMo"
      },
      "source": [
        "ndata = pd.read_excel('/content/drive/MyDrive/Atlanta/Week 6 Training/Week 6 Project/Data/Twitter/Nike_Intention_To_Buy_HandLabel.xlsx')"
      ],
      "execution_count": 3,
      "outputs": []
    },
    {
      "cell_type": "code",
      "metadata": {
        "colab": {
          "base_uri": "https://localhost:8080/"
        },
        "id": "QjTZGoxSBGPy",
        "outputId": "57ba48f7-3192-4228-c336-71bb8d5f1b8c"
      },
      "source": [
        "ndata.shape"
      ],
      "execution_count": 4,
      "outputs": [
        {
          "output_type": "execute_result",
          "data": {
            "text/plain": [
              "(527, 5)"
            ]
          },
          "metadata": {},
          "execution_count": 4
        }
      ]
    },
    {
      "cell_type": "code",
      "metadata": {
        "colab": {
          "base_uri": "https://localhost:8080/",
          "height": 206
        },
        "id": "gHTfgEep2s82",
        "outputId": "e642be97-910d-44dd-8bcd-6be041ff1cde"
      },
      "source": [
        "ndata.head()"
      ],
      "execution_count": 5,
      "outputs": [
        {
          "output_type": "execute_result",
          "data": {
            "text/html": [
              "<div>\n",
              "<style scoped>\n",
              "    .dataframe tbody tr th:only-of-type {\n",
              "        vertical-align: middle;\n",
              "    }\n",
              "\n",
              "    .dataframe tbody tr th {\n",
              "        vertical-align: top;\n",
              "    }\n",
              "\n",
              "    .dataframe thead th {\n",
              "        text-align: right;\n",
              "    }\n",
              "</style>\n",
              "<table border=\"1\" class=\"dataframe\">\n",
              "  <thead>\n",
              "    <tr style=\"text-align: right;\">\n",
              "      <th></th>\n",
              "      <th>Unnamed: 0</th>\n",
              "      <th>created_at</th>\n",
              "      <th>id</th>\n",
              "      <th>text</th>\n",
              "      <th>Sent</th>\n",
              "    </tr>\n",
              "  </thead>\n",
              "  <tbody>\n",
              "    <tr>\n",
              "      <th>0</th>\n",
              "      <td>1</td>\n",
              "      <td>2021-09-05T00:55:25.000Z</td>\n",
              "      <td>1.434319e+18</td>\n",
              "      <td>@jadendaly @Jumpman23 @nikestore @Nike @nikeba...</td>\n",
              "      <td>2.0</td>\n",
              "    </tr>\n",
              "    <tr>\n",
              "      <th>1</th>\n",
              "      <td>2</td>\n",
              "      <td>2021-09-05T00:55:05.000Z</td>\n",
              "      <td>1.434319e+18</td>\n",
              "      <td>Some personal news: After almost 8 years, Iâ€™...</td>\n",
              "      <td>2.0</td>\n",
              "    </tr>\n",
              "    <tr>\n",
              "      <th>2</th>\n",
              "      <td>3</td>\n",
              "      <td>2021-09-05T00:43:13.000Z</td>\n",
              "      <td>1.434316e+18</td>\n",
              "      <td>@DCUO_Cire @Cookingnoodles1 @nikestore @Jumpma...</td>\n",
              "      <td>3.0</td>\n",
              "    </tr>\n",
              "    <tr>\n",
              "      <th>3</th>\n",
              "      <td>4</td>\n",
              "      <td>2021-09-05T00:41:01.000Z</td>\n",
              "      <td>1.434316e+18</td>\n",
              "      <td>@Nike It's not allowing me to DM you. @nikesto...</td>\n",
              "      <td>1.0</td>\n",
              "    </tr>\n",
              "    <tr>\n",
              "      <th>4</th>\n",
              "      <td>5</td>\n",
              "      <td>2021-09-05T00:35:02.000Z</td>\n",
              "      <td>1.434314e+18</td>\n",
              "      <td>@geejmasterflex @FedEx @Nike @FedExHelp @LT_56...</td>\n",
              "      <td>2.0</td>\n",
              "    </tr>\n",
              "  </tbody>\n",
              "</table>\n",
              "</div>"
            ],
            "text/plain": [
              "   Unnamed: 0  ... Sent\n",
              "0           1  ...  2.0\n",
              "1           2  ...  2.0\n",
              "2           3  ...  3.0\n",
              "3           4  ...  1.0\n",
              "4           5  ...  2.0\n",
              "\n",
              "[5 rows x 5 columns]"
            ]
          },
          "metadata": {},
          "execution_count": 5
        }
      ]
    },
    {
      "cell_type": "markdown",
      "metadata": {
        "id": "EGQAmrFPLQx6"
      },
      "source": [
        "# Table Format Pre-Processing"
      ]
    },
    {
      "cell_type": "code",
      "metadata": {
        "id": "1QJt3M0c_Osy"
      },
      "source": [
        "# Deleting the id as we don't require them\n",
        "\n",
        "ndata.drop(ndata.columns[2], axis=1, inplace=True)"
      ],
      "execution_count": 6,
      "outputs": []
    },
    {
      "cell_type": "code",
      "metadata": {
        "colab": {
          "base_uri": "https://localhost:8080/"
        },
        "id": "Z_UTMChe_O-R",
        "outputId": "ccfbc894-e948-48a5-cd19-2a32fbfca760"
      },
      "source": [
        "# Checking the Unique values in the data as there are multiples retweets for same tweet\n",
        "\n",
        "ndata.nunique()"
      ],
      "execution_count": 7,
      "outputs": [
        {
          "output_type": "execute_result",
          "data": {
            "text/plain": [
              "Unnamed: 0    527\n",
              "created_at    522\n",
              "text          526\n",
              "Sent            4\n",
              "dtype: int64"
            ]
          },
          "metadata": {},
          "execution_count": 7
        }
      ]
    },
    {
      "cell_type": "code",
      "metadata": {
        "colab": {
          "base_uri": "https://localhost:8080/",
          "height": 206
        },
        "id": "hpjLSsS0DkNY",
        "outputId": "e8057edf-1443-4a92-c48b-c1e970e755e9"
      },
      "source": [
        "ndata.head()"
      ],
      "execution_count": 8,
      "outputs": [
        {
          "output_type": "execute_result",
          "data": {
            "text/html": [
              "<div>\n",
              "<style scoped>\n",
              "    .dataframe tbody tr th:only-of-type {\n",
              "        vertical-align: middle;\n",
              "    }\n",
              "\n",
              "    .dataframe tbody tr th {\n",
              "        vertical-align: top;\n",
              "    }\n",
              "\n",
              "    .dataframe thead th {\n",
              "        text-align: right;\n",
              "    }\n",
              "</style>\n",
              "<table border=\"1\" class=\"dataframe\">\n",
              "  <thead>\n",
              "    <tr style=\"text-align: right;\">\n",
              "      <th></th>\n",
              "      <th>Unnamed: 0</th>\n",
              "      <th>created_at</th>\n",
              "      <th>text</th>\n",
              "      <th>Sent</th>\n",
              "    </tr>\n",
              "  </thead>\n",
              "  <tbody>\n",
              "    <tr>\n",
              "      <th>0</th>\n",
              "      <td>1</td>\n",
              "      <td>2021-09-05T00:55:25.000Z</td>\n",
              "      <td>@jadendaly @Jumpman23 @nikestore @Nike @nikeba...</td>\n",
              "      <td>2.0</td>\n",
              "    </tr>\n",
              "    <tr>\n",
              "      <th>1</th>\n",
              "      <td>2</td>\n",
              "      <td>2021-09-05T00:55:05.000Z</td>\n",
              "      <td>Some personal news: After almost 8 years, Iâ€™...</td>\n",
              "      <td>2.0</td>\n",
              "    </tr>\n",
              "    <tr>\n",
              "      <th>2</th>\n",
              "      <td>3</td>\n",
              "      <td>2021-09-05T00:43:13.000Z</td>\n",
              "      <td>@DCUO_Cire @Cookingnoodles1 @nikestore @Jumpma...</td>\n",
              "      <td>3.0</td>\n",
              "    </tr>\n",
              "    <tr>\n",
              "      <th>3</th>\n",
              "      <td>4</td>\n",
              "      <td>2021-09-05T00:41:01.000Z</td>\n",
              "      <td>@Nike It's not allowing me to DM you. @nikesto...</td>\n",
              "      <td>1.0</td>\n",
              "    </tr>\n",
              "    <tr>\n",
              "      <th>4</th>\n",
              "      <td>5</td>\n",
              "      <td>2021-09-05T00:35:02.000Z</td>\n",
              "      <td>@geejmasterflex @FedEx @Nike @FedExHelp @LT_56...</td>\n",
              "      <td>2.0</td>\n",
              "    </tr>\n",
              "  </tbody>\n",
              "</table>\n",
              "</div>"
            ],
            "text/plain": [
              "   Unnamed: 0  ... Sent\n",
              "0           1  ...  2.0\n",
              "1           2  ...  2.0\n",
              "2           3  ...  3.0\n",
              "3           4  ...  1.0\n",
              "4           5  ...  2.0\n",
              "\n",
              "[5 rows x 4 columns]"
            ]
          },
          "metadata": {},
          "execution_count": 8
        }
      ]
    },
    {
      "cell_type": "code",
      "metadata": {
        "id": "ERS9WzFEFFER"
      },
      "source": [
        "#  Seperating the Date and Time into two different columns\n",
        "\n",
        "ndata['Date'] = pd.to_datetime(ndata['created_at']).dt.date\n",
        "ndata['Time'] = pd.to_datetime(ndata['created_at']).dt.time\n",
        "\n"
      ],
      "execution_count": 9,
      "outputs": []
    },
    {
      "cell_type": "code",
      "metadata": {
        "id": "pbbEQrom0L1c"
      },
      "source": [
        "#  Dropping the created_at Columns as its not required anymore\n",
        "ndata.drop(ndata.columns[1], axis=1, inplace=True)"
      ],
      "execution_count": 10,
      "outputs": []
    },
    {
      "cell_type": "code",
      "metadata": {
        "id": "WT1z5o68yXQ1"
      },
      "source": [
        "# Resetting the index and the putting the columns names\n",
        "#ndata.reset_index(level = 0, inplace=True)\n",
        "ndata.columns = ['Post_id','Post', 'Intention','Date', 'Time']"
      ],
      "execution_count": 11,
      "outputs": []
    },
    {
      "cell_type": "code",
      "metadata": {
        "colab": {
          "base_uri": "https://localhost:8080/",
          "height": 206
        },
        "id": "UrZbhinsOq9B",
        "outputId": "c21026b3-5b37-4c1d-e05b-32d5bc1b3776"
      },
      "source": [
        "ndata.head()"
      ],
      "execution_count": 12,
      "outputs": [
        {
          "output_type": "execute_result",
          "data": {
            "text/html": [
              "<div>\n",
              "<style scoped>\n",
              "    .dataframe tbody tr th:only-of-type {\n",
              "        vertical-align: middle;\n",
              "    }\n",
              "\n",
              "    .dataframe tbody tr th {\n",
              "        vertical-align: top;\n",
              "    }\n",
              "\n",
              "    .dataframe thead th {\n",
              "        text-align: right;\n",
              "    }\n",
              "</style>\n",
              "<table border=\"1\" class=\"dataframe\">\n",
              "  <thead>\n",
              "    <tr style=\"text-align: right;\">\n",
              "      <th></th>\n",
              "      <th>Post_id</th>\n",
              "      <th>Post</th>\n",
              "      <th>Intention</th>\n",
              "      <th>Date</th>\n",
              "      <th>Time</th>\n",
              "    </tr>\n",
              "  </thead>\n",
              "  <tbody>\n",
              "    <tr>\n",
              "      <th>0</th>\n",
              "      <td>1</td>\n",
              "      <td>@jadendaly @Jumpman23 @nikestore @Nike @nikeba...</td>\n",
              "      <td>2.0</td>\n",
              "      <td>2021-09-05</td>\n",
              "      <td>00:55:25</td>\n",
              "    </tr>\n",
              "    <tr>\n",
              "      <th>1</th>\n",
              "      <td>2</td>\n",
              "      <td>Some personal news: After almost 8 years, Iâ€™...</td>\n",
              "      <td>2.0</td>\n",
              "      <td>2021-09-05</td>\n",
              "      <td>00:55:05</td>\n",
              "    </tr>\n",
              "    <tr>\n",
              "      <th>2</th>\n",
              "      <td>3</td>\n",
              "      <td>@DCUO_Cire @Cookingnoodles1 @nikestore @Jumpma...</td>\n",
              "      <td>3.0</td>\n",
              "      <td>2021-09-05</td>\n",
              "      <td>00:43:13</td>\n",
              "    </tr>\n",
              "    <tr>\n",
              "      <th>3</th>\n",
              "      <td>4</td>\n",
              "      <td>@Nike It's not allowing me to DM you. @nikesto...</td>\n",
              "      <td>1.0</td>\n",
              "      <td>2021-09-05</td>\n",
              "      <td>00:41:01</td>\n",
              "    </tr>\n",
              "    <tr>\n",
              "      <th>4</th>\n",
              "      <td>5</td>\n",
              "      <td>@geejmasterflex @FedEx @Nike @FedExHelp @LT_56...</td>\n",
              "      <td>2.0</td>\n",
              "      <td>2021-09-05</td>\n",
              "      <td>00:35:02</td>\n",
              "    </tr>\n",
              "  </tbody>\n",
              "</table>\n",
              "</div>"
            ],
            "text/plain": [
              "   Post_id  ...      Time\n",
              "0        1  ...  00:55:25\n",
              "1        2  ...  00:55:05\n",
              "2        3  ...  00:43:13\n",
              "3        4  ...  00:41:01\n",
              "4        5  ...  00:35:02\n",
              "\n",
              "[5 rows x 5 columns]"
            ]
          },
          "metadata": {},
          "execution_count": 12
        }
      ]
    },
    {
      "cell_type": "code",
      "metadata": {
        "colab": {
          "base_uri": "https://localhost:8080/"
        },
        "id": "jn8OAn5DkQ2F",
        "outputId": "c7a24f2b-3a16-4dcd-ea80-3af587f2e6da"
      },
      "source": [
        "ndata.isnull().sum().sum()"
      ],
      "execution_count": 13,
      "outputs": [
        {
          "output_type": "execute_result",
          "data": {
            "text/plain": [
              "4"
            ]
          },
          "metadata": {},
          "execution_count": 13
        }
      ]
    },
    {
      "cell_type": "code",
      "metadata": {
        "id": "3JoKvV9HlAs9"
      },
      "source": [
        "ndata = ndata.dropna(how='any',axis=0) "
      ],
      "execution_count": 14,
      "outputs": []
    },
    {
      "cell_type": "code",
      "metadata": {
        "colab": {
          "base_uri": "https://localhost:8080/"
        },
        "id": "4x-sOrf9KRXj",
        "outputId": "70cbf624-d057-429c-882a-b0955fd35726"
      },
      "source": [
        "ndata.value_counts(subset='Intention')"
      ],
      "execution_count": 15,
      "outputs": [
        {
          "output_type": "execute_result",
          "data": {
            "text/plain": [
              "Intention\n",
              "3.0    267\n",
              "2.0    141\n",
              "1.0     76\n",
              "4.0     42\n",
              "dtype: int64"
            ]
          },
          "metadata": {},
          "execution_count": 15
        }
      ]
    },
    {
      "cell_type": "code",
      "metadata": {
        "colab": {
          "base_uri": "https://localhost:8080/"
        },
        "id": "tQ6fIF9vLvHC",
        "outputId": "7c37d2bb-9609-43d9-fc0a-421b6f250f8b"
      },
      "source": [
        "ndata.dtypes"
      ],
      "execution_count": 16,
      "outputs": [
        {
          "output_type": "execute_result",
          "data": {
            "text/plain": [
              "Post_id        int64\n",
              "Post          object\n",
              "Intention    float64\n",
              "Date          object\n",
              "Time          object\n",
              "dtype: object"
            ]
          },
          "metadata": {},
          "execution_count": 16
        }
      ]
    },
    {
      "cell_type": "code",
      "metadata": {
        "id": "a_EfXdrsUcMa"
      },
      "source": [
        "# Converting the Post to string type for our analysis\n",
        "\n",
        "ndata.Post = ndata.Post.astype(str)"
      ],
      "execution_count": 17,
      "outputs": []
    },
    {
      "cell_type": "markdown",
      "metadata": {
        "id": "-4_w4xcn_YxO"
      },
      "source": [
        "# EDA"
      ]
    },
    {
      "cell_type": "code",
      "metadata": {
        "id": "efJW3ch8LMas",
        "colab": {
          "base_uri": "https://localhost:8080/"
        },
        "outputId": "c1e06890-3609-4685-952b-8c272ed10b7e"
      },
      "source": [
        "max([len(post) for post in ndata['Post']])"
      ],
      "execution_count": 18,
      "outputs": [
        {
          "output_type": "execute_result",
          "data": {
            "text/plain": [
              "330"
            ]
          },
          "metadata": {},
          "execution_count": 18
        }
      ]
    },
    {
      "cell_type": "code",
      "metadata": {
        "colab": {
          "base_uri": "https://localhost:8080/",
          "height": 821
        },
        "id": "lLuW-GhPUs8q",
        "outputId": "56277f9b-14b1-419a-d711-24d7f3dcc6f3"
      },
      "source": [
        "plt.figure(figsize=(15,12))\n",
        "sns.set(font_scale=2)\n",
        "sns.distplot([len(post) for post in ndata['Post']], bins=70)\n",
        "plt.title(\"Post Lengths\")\n",
        "plt.xlabel('Number of Characters')\n",
        "plt.show();"
      ],
      "execution_count": 19,
      "outputs": [
        {
          "output_type": "stream",
          "name": "stderr",
          "text": [
            "/usr/local/lib/python3.7/dist-packages/seaborn/distributions.py:2557: FutureWarning: `distplot` is a deprecated function and will be removed in a future version. Please adapt your code to use either `displot` (a figure-level function with similar flexibility) or `histplot` (an axes-level function for histograms).\n",
            "  warnings.warn(msg, FutureWarning)\n"
          ]
        },
        {
          "output_type": "display_data",
          "data": {
            "image/png": "[encoded data removed]",
            "text/plain": [
              "<Figure size 1080x864 with 1 Axes>"
            ]
          },
          "metadata": {
            "needs_background": "light"
          }
        }
      ]
    },
    {
      "cell_type": "markdown",
      "metadata": {
        "id": "LuN9rnwHViC6"
      },
      "source": [
        "# Text Pre-Processing"
      ]
    },
    {
      "cell_type": "markdown",
      "metadata": {
        "id": "ZyxohH5hiQAN"
      },
      "source": [
        "### Preprocess the Post Column"
      ]
    },
    {
      "cell_type": "code",
      "metadata": {
        "colab": {
          "base_uri": "https://localhost:8080/",
          "height": 206
        },
        "id": "NgNSOF9viQKt",
        "outputId": "e3dbf6d6-2dcc-4b60-cf8d-fdb0a4cda647"
      },
      "source": [
        "#Preprocess the Post from each tweet ( cleaning the text)\n",
        "\n",
        "import re\n",
        "\n",
        "def preprocess_text(sentence):\n",
        "    #removal of HTTP links/URLs mixed up in any text\n",
        "    sentence = re.sub('http://\\S+|https://\\S+', '', str(sentence))\n",
        "    \n",
        "    #removal of any references outside the text\n",
        "    sentence = re.sub(\"[\\(\\[].*?[\\)\\]]\", \"\", str(sentence))\n",
        "    \n",
        "    #removal of newline characters\n",
        "    sentence = re.sub('\\n',' ',str(sentence))\n",
        "    sentence = re.sub('\\n','',str(sentence))\n",
        "    \n",
        "    #removal of apostrophers\n",
        "    sentence = re.sub(\"'s\",'',str(sentence))\n",
        "    \n",
        "    #removal of numbers in pargraphs\n",
        "    sentence = re.sub('[0-9]+.\\t','',str(sentence))\n",
        "    \n",
        "    #removal of hyphens in any sentences\n",
        "    sentence = re.sub(\"-\",' ',str(sentence))\n",
        "    sentence = re.sub(\"— \",'',str(sentence))\n",
        "    \n",
        "    #removal of salutations in the sentences\n",
        "    sentence = re.sub(\"Mr\\.\",'Mr',str(sentence))\n",
        "    sentence = re.sub(\"Mrs\\.\",'Mrs',str(sentence))\n",
        "    \n",
        "    #removal of quation marks in the sentences\n",
        "    sentence = re.sub('\\\"','',str(sentence))\n",
        "    \n",
        "    return sentence\n",
        "\n",
        "ndata['Post'] = ndata[\"Post\"].apply(preprocess_text)\n",
        "ndata.head()"
      ],
      "execution_count": 20,
      "outputs": [
        {
          "output_type": "execute_result",
          "data": {
            "text/html": [
              "<div>\n",
              "<style scoped>\n",
              "    .dataframe tbody tr th:only-of-type {\n",
              "        vertical-align: middle;\n",
              "    }\n",
              "\n",
              "    .dataframe tbody tr th {\n",
              "        vertical-align: top;\n",
              "    }\n",
              "\n",
              "    .dataframe thead th {\n",
              "        text-align: right;\n",
              "    }\n",
              "</style>\n",
              "<table border=\"1\" class=\"dataframe\">\n",
              "  <thead>\n",
              "    <tr style=\"text-align: right;\">\n",
              "      <th></th>\n",
              "      <th>Post_id</th>\n",
              "      <th>Post</th>\n",
              "      <th>Intention</th>\n",
              "      <th>Date</th>\n",
              "      <th>Time</th>\n",
              "    </tr>\n",
              "  </thead>\n",
              "  <tbody>\n",
              "    <tr>\n",
              "      <th>0</th>\n",
              "      <td>1</td>\n",
              "      <td>@jadendaly @Jumpman23 @nikestore @Nike @nikeba...</td>\n",
              "      <td>2.0</td>\n",
              "      <td>2021-09-05</td>\n",
              "      <td>00:55:25</td>\n",
              "    </tr>\n",
              "    <tr>\n",
              "      <th>1</th>\n",
              "      <td>2</td>\n",
              "      <td>Some personal news: After almost 8 years, Iâ€™...</td>\n",
              "      <td>2.0</td>\n",
              "      <td>2021-09-05</td>\n",
              "      <td>00:55:05</td>\n",
              "    </tr>\n",
              "    <tr>\n",
              "      <th>2</th>\n",
              "      <td>3</td>\n",
              "      <td>@DCUO_Cire @Cookingnoodles1 @nikestore @Jumpma...</td>\n",
              "      <td>3.0</td>\n",
              "      <td>2021-09-05</td>\n",
              "      <td>00:43:13</td>\n",
              "    </tr>\n",
              "    <tr>\n",
              "      <th>3</th>\n",
              "      <td>4</td>\n",
              "      <td>@Nike It not allowing me to DM you. @nikestore...</td>\n",
              "      <td>1.0</td>\n",
              "      <td>2021-09-05</td>\n",
              "      <td>00:41:01</td>\n",
              "    </tr>\n",
              "    <tr>\n",
              "      <th>4</th>\n",
              "      <td>5</td>\n",
              "      <td>@geejmasterflex @FedEx @Nike @FedExHelp @LT_56...</td>\n",
              "      <td>2.0</td>\n",
              "      <td>2021-09-05</td>\n",
              "      <td>00:35:02</td>\n",
              "    </tr>\n",
              "  </tbody>\n",
              "</table>\n",
              "</div>"
            ],
            "text/plain": [
              "   Post_id  ...      Time\n",
              "0        1  ...  00:55:25\n",
              "1        2  ...  00:55:05\n",
              "2        3  ...  00:43:13\n",
              "3        4  ...  00:41:01\n",
              "4        5  ...  00:35:02\n",
              "\n",
              "[5 rows x 5 columns]"
            ]
          },
          "metadata": {},
          "execution_count": 20
        }
      ]
    },
    {
      "cell_type": "markdown",
      "metadata": {
        "id": "w-olV6RESBjG"
      },
      "source": [
        "### De-contract Words"
      ]
    },
    {
      "cell_type": "code",
      "metadata": {
        "colab": {
          "base_uri": "https://localhost:8080/"
        },
        "id": "ViY1vpdWSBDO",
        "outputId": "afef6b6f-6d14-477e-c1bc-a42c658437e0"
      },
      "source": [
        "!pip install contractions\n",
        "import contractions"
      ],
      "execution_count": 21,
      "outputs": [
        {
          "output_type": "stream",
          "name": "stdout",
          "text": [
            "Collecting contractions\n",
            "  Downloading contractions-0.0.52-py2.py3-none-any.whl (7.2 kB)\n",
            "Collecting textsearch>=0.0.21\n",
            "  Downloading textsearch-0.0.21-py2.py3-none-any.whl (7.5 kB)\n",
            "Collecting anyascii\n",
            "  Downloading anyascii-0.3.0-py3-none-any.whl (284 kB)\n",
            "\u001b[K     |████████████████████████████████| 284 kB 13.2 MB/s \n",
            "\u001b[?25hCollecting pyahocorasick\n",
            "  Downloading pyahocorasick-1.4.2.tar.gz (321 kB)\n",
            "\u001b[K     |████████████████████████████████| 321 kB 43.1 MB/s \n",
            "\u001b[?25hBuilding wheels for collected packages: pyahocorasick\n",
            "  Building wheel for pyahocorasick (setup.py) ... \u001b[?25l\u001b[?25hdone\n",
            "  Created wheel for pyahocorasick: filename=pyahocorasick-1.4.2-cp37-cp37m-linux_x86_64.whl size=85445 sha256=c323e737387c5547fab66eb61871d3eec9f7af1e518fd18bf4651bad373740ed\n",
            "  Stored in directory: /root/.cache/pip/wheels/25/19/a6/8f363d9939162782bb8439d886469756271abc01f76fbd790f\n",
            "Successfully built pyahocorasick\n",
            "Installing collected packages: pyahocorasick, anyascii, textsearch, contractions\n",
            "Successfully installed anyascii-0.3.0 contractions-0.0.52 pyahocorasick-1.4.2 textsearch-0.0.21\n"
          ]
        }
      ]
    },
    {
      "cell_type": "code",
      "metadata": {
        "id": "2VeQbe4gSG1u"
      },
      "source": [
        "def replace_contractions(text):\n",
        "  return contractions.fix(text)"
      ],
      "execution_count": 22,
      "outputs": []
    },
    {
      "cell_type": "code",
      "metadata": {
        "id": "uD-X-QhRZCME"
      },
      "source": [
        "ndata1 = ndata.copy()"
      ],
      "execution_count": 23,
      "outputs": []
    },
    {
      "cell_type": "code",
      "metadata": {
        "id": "amYAIGiqSMn9",
        "colab": {
          "base_uri": "https://localhost:8080/"
        },
        "outputId": "581a86bf-5760-4a19-8cfd-4beea4198db5"
      },
      "source": [
        "for i, post in enumerate(ndata['Post']):\n",
        "  ndata1['Post'][i] = replace_contractions(post)"
      ],
      "execution_count": 24,
      "outputs": [
        {
          "output_type": "stream",
          "name": "stderr",
          "text": [
            "/usr/local/lib/python3.7/dist-packages/ipykernel_launcher.py:2: SettingWithCopyWarning: \n",
            "A value is trying to be set on a copy of a slice from a DataFrame\n",
            "\n",
            "See the caveats in the documentation: https://pandas.pydata.org/pandas-docs/stable/user_guide/indexing.html#returning-a-view-versus-a-copy\n",
            "  \n"
          ]
        }
      ]
    },
    {
      "cell_type": "code",
      "metadata": {
        "colab": {
          "base_uri": "https://localhost:8080/",
          "height": 206
        },
        "id": "GNRRpFJkSiyO",
        "outputId": "83d236c9-b649-4d7c-8ea2-707121d45333"
      },
      "source": [
        "ndata1.head()"
      ],
      "execution_count": 25,
      "outputs": [
        {
          "output_type": "execute_result",
          "data": {
            "text/html": [
              "<div>\n",
              "<style scoped>\n",
              "    .dataframe tbody tr th:only-of-type {\n",
              "        vertical-align: middle;\n",
              "    }\n",
              "\n",
              "    .dataframe tbody tr th {\n",
              "        vertical-align: top;\n",
              "    }\n",
              "\n",
              "    .dataframe thead th {\n",
              "        text-align: right;\n",
              "    }\n",
              "</style>\n",
              "<table border=\"1\" class=\"dataframe\">\n",
              "  <thead>\n",
              "    <tr style=\"text-align: right;\">\n",
              "      <th></th>\n",
              "      <th>Post_id</th>\n",
              "      <th>Post</th>\n",
              "      <th>Intention</th>\n",
              "      <th>Date</th>\n",
              "      <th>Time</th>\n",
              "    </tr>\n",
              "  </thead>\n",
              "  <tbody>\n",
              "    <tr>\n",
              "      <th>0</th>\n",
              "      <td>1</td>\n",
              "      <td>@jadendaly @Jumpman23 @nikestore @Nike @nikeba...</td>\n",
              "      <td>2.0</td>\n",
              "      <td>2021-09-05</td>\n",
              "      <td>00:55:25</td>\n",
              "    </tr>\n",
              "    <tr>\n",
              "      <th>1</th>\n",
              "      <td>2</td>\n",
              "      <td>Some personal news: After almost 8 years, Iâ€™...</td>\n",
              "      <td>2.0</td>\n",
              "      <td>2021-09-05</td>\n",
              "      <td>00:55:05</td>\n",
              "    </tr>\n",
              "    <tr>\n",
              "      <th>2</th>\n",
              "      <td>3</td>\n",
              "      <td>@DCUO_Cire @Cookingnoodles1 @nikestore @Jumpma...</td>\n",
              "      <td>3.0</td>\n",
              "      <td>2021-09-05</td>\n",
              "      <td>00:43:13</td>\n",
              "    </tr>\n",
              "    <tr>\n",
              "      <th>3</th>\n",
              "      <td>4</td>\n",
              "      <td>@Nike It not allowing me to DM you. @nikestore...</td>\n",
              "      <td>1.0</td>\n",
              "      <td>2021-09-05</td>\n",
              "      <td>00:41:01</td>\n",
              "    </tr>\n",
              "    <tr>\n",
              "      <th>4</th>\n",
              "      <td>5</td>\n",
              "      <td>@geejmasterflex @FedEx @Nike @FedExHelp @LT_56...</td>\n",
              "      <td>2.0</td>\n",
              "      <td>2021-09-05</td>\n",
              "      <td>00:35:02</td>\n",
              "    </tr>\n",
              "  </tbody>\n",
              "</table>\n",
              "</div>"
            ],
            "text/plain": [
              "   Post_id  ...      Time\n",
              "0        1  ...  00:55:25\n",
              "1        2  ...  00:55:05\n",
              "2        3  ...  00:43:13\n",
              "3        4  ...  00:41:01\n",
              "4        5  ...  00:35:02\n",
              "\n",
              "[5 rows x 5 columns]"
            ]
          },
          "metadata": {},
          "execution_count": 25
        }
      ]
    },
    {
      "cell_type": "markdown",
      "metadata": {
        "id": "17lg1gVNVT2y"
      },
      "source": [
        "### Remove Numericals"
      ]
    },
    {
      "cell_type": "code",
      "metadata": {
        "id": "p0j2c6L4VTi_"
      },
      "source": [
        "import re\n",
        "\n",
        "def remove_numbers(post):\n",
        "  post = re.sub(r'\\d+', '', post)\n",
        "  return post"
      ],
      "execution_count": 26,
      "outputs": []
    },
    {
      "cell_type": "code",
      "metadata": {
        "id": "zU-ySBLfad4r"
      },
      "source": [
        "ndata1['Post'] = ndata1['Post'].apply(lambda x: remove_numbers(x))"
      ],
      "execution_count": 27,
      "outputs": []
    },
    {
      "cell_type": "markdown",
      "metadata": {
        "id": "grYoJnUK_H4O"
      },
      "source": [
        "### Tokenization"
      ]
    },
    {
      "cell_type": "code",
      "metadata": {
        "id": "_IVj_W3q_Ofj",
        "colab": {
          "base_uri": "https://localhost:8080/"
        },
        "outputId": "4d989ced-310b-4924-dbb0-e880a12e21d4"
      },
      "source": [
        "import nltk\n",
        "from nltk.tokenize.toktok import ToktokTokenizer\n",
        "\n",
        "tokenizer = ToktokTokenizer()\n",
        "\n",
        "for i, post in enumerate(ndata['Post']):\n",
        "  ndata1['Post'][i] = tokenizer.tokenize(post)"
      ],
      "execution_count": 28,
      "outputs": [
        {
          "output_type": "stream",
          "name": "stderr",
          "text": [
            "/usr/local/lib/python3.7/dist-packages/ipykernel_launcher.py:7: SettingWithCopyWarning: \n",
            "A value is trying to be set on a copy of a slice from a DataFrame\n",
            "\n",
            "See the caveats in the documentation: https://pandas.pydata.org/pandas-docs/stable/user_guide/indexing.html#returning-a-view-versus-a-copy\n",
            "  import sys\n"
          ]
        }
      ]
    },
    {
      "cell_type": "code",
      "metadata": {
        "colab": {
          "base_uri": "https://localhost:8080/",
          "height": 206
        },
        "id": "a_vEKRKDTj91",
        "outputId": "5d8560c0-57db-4c42-8490-3ac00d73c526"
      },
      "source": [
        "ndata1.head()"
      ],
      "execution_count": 29,
      "outputs": [
        {
          "output_type": "execute_result",
          "data": {
            "text/html": [
              "<div>\n",
              "<style scoped>\n",
              "    .dataframe tbody tr th:only-of-type {\n",
              "        vertical-align: middle;\n",
              "    }\n",
              "\n",
              "    .dataframe tbody tr th {\n",
              "        vertical-align: top;\n",
              "    }\n",
              "\n",
              "    .dataframe thead th {\n",
              "        text-align: right;\n",
              "    }\n",
              "</style>\n",
              "<table border=\"1\" class=\"dataframe\">\n",
              "  <thead>\n",
              "    <tr style=\"text-align: right;\">\n",
              "      <th></th>\n",
              "      <th>Post_id</th>\n",
              "      <th>Post</th>\n",
              "      <th>Intention</th>\n",
              "      <th>Date</th>\n",
              "      <th>Time</th>\n",
              "    </tr>\n",
              "  </thead>\n",
              "  <tbody>\n",
              "    <tr>\n",
              "      <th>0</th>\n",
              "      <td>1</td>\n",
              "      <td>[@jadendaly, @Jumpman23, @nikestore, @Nike, @n...</td>\n",
              "      <td>2.0</td>\n",
              "      <td>2021-09-05</td>\n",
              "      <td>00:55:25</td>\n",
              "    </tr>\n",
              "    <tr>\n",
              "      <th>1</th>\n",
              "      <td>2</td>\n",
              "      <td>[Some, personal, news, :, After, almost, 8, ye...</td>\n",
              "      <td>2.0</td>\n",
              "      <td>2021-09-05</td>\n",
              "      <td>00:55:05</td>\n",
              "    </tr>\n",
              "    <tr>\n",
              "      <th>2</th>\n",
              "      <td>3</td>\n",
              "      <td>[@DCUO_Cire, @Cookingnoodles1, @nikestore, @Ju...</td>\n",
              "      <td>3.0</td>\n",
              "      <td>2021-09-05</td>\n",
              "      <td>00:43:13</td>\n",
              "    </tr>\n",
              "    <tr>\n",
              "      <th>3</th>\n",
              "      <td>4</td>\n",
              "      <td>[@Nike, It, not, allowing, me, to, DM, you., @...</td>\n",
              "      <td>1.0</td>\n",
              "      <td>2021-09-05</td>\n",
              "      <td>00:41:01</td>\n",
              "    </tr>\n",
              "    <tr>\n",
              "      <th>4</th>\n",
              "      <td>5</td>\n",
              "      <td>[@geejmasterflex, @FedEx, @Nike, @FedExHelp, @...</td>\n",
              "      <td>2.0</td>\n",
              "      <td>2021-09-05</td>\n",
              "      <td>00:35:02</td>\n",
              "    </tr>\n",
              "  </tbody>\n",
              "</table>\n",
              "</div>"
            ],
            "text/plain": [
              "   Post_id  ...      Time\n",
              "0        1  ...  00:55:25\n",
              "1        2  ...  00:55:05\n",
              "2        3  ...  00:43:13\n",
              "3        4  ...  00:41:01\n",
              "4        5  ...  00:35:02\n",
              "\n",
              "[5 rows x 5 columns]"
            ]
          },
          "metadata": {},
          "execution_count": 29
        }
      ]
    },
    {
      "cell_type": "markdown",
      "metadata": {
        "id": "FwH5ltDUTzRt"
      },
      "source": [
        "### Non-Ascii Characters"
      ]
    },
    {
      "cell_type": "code",
      "metadata": {
        "id": "Z54F51aLUS5m"
      },
      "source": [
        "import unicodedata\n",
        "\n",
        "def remove_non_ascii(words):\n",
        "  new_words = []\n",
        "  for word in words:\n",
        "    new_word = unicodedata.normalize('NFKD', word).encode('ascii', 'ignore').decode('utf-8', 'ignore')\n",
        "    new_words.append(new_word)\n",
        "  return new_words"
      ],
      "execution_count": 30,
      "outputs": []
    },
    {
      "cell_type": "code",
      "metadata": {
        "id": "7q_yR_yuUgqU"
      },
      "source": [
        "ndata1['Post'] = ndata1['Post'].apply(lambda post: remove_non_ascii(post))"
      ],
      "execution_count": 31,
      "outputs": []
    },
    {
      "cell_type": "code",
      "metadata": {
        "colab": {
          "base_uri": "https://localhost:8080/"
        },
        "id": "koETLRGPUuj8",
        "outputId": "b0c2a7f1-24e1-4eb5-999f-93f0456932f1"
      },
      "source": [
        "ndata1['Post'][0]"
      ],
      "execution_count": 32,
      "outputs": [
        {
          "output_type": "execute_result",
          "data": {
            "text/plain": [
              "['@jadendaly',\n",
              " '@Jumpman23',\n",
              " '@nikestore',\n",
              " '@Nike',\n",
              " '@nikebasketball',\n",
              " '@NikeNYC',\n",
              " '@adidas',\n",
              " '@adidasoriginals',\n",
              " '@adidasNYC',\n",
              " '@atmos_usa',\n",
              " '@snkrhud',\n",
              " 'Love',\n",
              " 'to',\n",
              " 'see',\n",
              " 'it.',\n",
              " 'Seems',\n",
              " 'like',\n",
              " 'not',\n",
              " 'long',\n",
              " 'ago',\n",
              " 'you',\n",
              " 'had',\n",
              " '1',\n",
              " 'of',\n",
              " 'those',\n",
              " 'racks',\n",
              " 'filled.',\n",
              " 'The',\n",
              " 'growth',\n",
              " 'is',\n",
              " 'BEAUTIFUL',\n",
              " 'brother',\n",
              " 'a']"
            ]
          },
          "metadata": {},
          "execution_count": 32
        }
      ]
    },
    {
      "cell_type": "markdown",
      "metadata": {
        "id": "zZOkpnem_O3c"
      },
      "source": [
        "### Punctuation"
      ]
    },
    {
      "cell_type": "code",
      "metadata": {
        "id": "yDf6EIe9_BJj"
      },
      "source": [
        "def remove_punctuation(words):\n",
        "  new_words = []\n",
        "  for word in words:\n",
        "    new_word = re.sub(r'[^\\w\\s]', '', word)\n",
        "    if new_word != '':\n",
        "      new_words.append(new_word)\n",
        "  return new_words"
      ],
      "execution_count": 33,
      "outputs": []
    },
    {
      "cell_type": "code",
      "metadata": {
        "id": "OiguMERSXB9V"
      },
      "source": [
        "ndata1['Post'] = ndata1['Post'].apply(lambda post: remove_punctuation(post))"
      ],
      "execution_count": 34,
      "outputs": []
    },
    {
      "cell_type": "code",
      "metadata": {
        "colab": {
          "base_uri": "https://localhost:8080/"
        },
        "id": "3yJ02G-SXQMV",
        "outputId": "9f355389-f387-44d3-b461-ec580023667f"
      },
      "source": [
        "ndata1['Post'][0]"
      ],
      "execution_count": 35,
      "outputs": [
        {
          "output_type": "execute_result",
          "data": {
            "text/plain": [
              "['jadendaly',\n",
              " 'Jumpman23',\n",
              " 'nikestore',\n",
              " 'Nike',\n",
              " 'nikebasketball',\n",
              " 'NikeNYC',\n",
              " 'adidas',\n",
              " 'adidasoriginals',\n",
              " 'adidasNYC',\n",
              " 'atmos_usa',\n",
              " 'snkrhud',\n",
              " 'Love',\n",
              " 'to',\n",
              " 'see',\n",
              " 'it',\n",
              " 'Seems',\n",
              " 'like',\n",
              " 'not',\n",
              " 'long',\n",
              " 'ago',\n",
              " 'you',\n",
              " 'had',\n",
              " '1',\n",
              " 'of',\n",
              " 'those',\n",
              " 'racks',\n",
              " 'filled',\n",
              " 'The',\n",
              " 'growth',\n",
              " 'is',\n",
              " 'BEAUTIFUL',\n",
              " 'brother',\n",
              " 'a']"
            ]
          },
          "metadata": {},
          "execution_count": 35
        }
      ]
    },
    {
      "cell_type": "markdown",
      "metadata": {
        "id": "GKp_0O6v_QsT"
      },
      "source": [
        "### Lower Case"
      ]
    },
    {
      "cell_type": "code",
      "metadata": {
        "id": "mcEsNfWV_eEH"
      },
      "source": [
        "def lower_case(words):\n",
        "  new_words = []\n",
        "  for word in words:\n",
        "    new_word = word.lower()\n",
        "    new_words.append(new_word)\n",
        "  return new_words"
      ],
      "execution_count": 36,
      "outputs": []
    },
    {
      "cell_type": "code",
      "metadata": {
        "id": "LKWMXQu0XmBs"
      },
      "source": [
        "ndata1['Post'] = ndata1['Post'].apply(lambda post: lower_case(post))"
      ],
      "execution_count": 37,
      "outputs": []
    },
    {
      "cell_type": "code",
      "metadata": {
        "colab": {
          "base_uri": "https://localhost:8080/",
          "height": 0
        },
        "id": "cNFkcLtkXrA9",
        "outputId": "e44e2e00-3156-457c-aff4-77eeb0858cdd"
      },
      "source": [
        "ndata1.head()"
      ],
      "execution_count": 38,
      "outputs": [
        {
          "output_type": "execute_result",
          "data": {
            "text/html": [
              "<div>\n",
              "<style scoped>\n",
              "    .dataframe tbody tr th:only-of-type {\n",
              "        vertical-align: middle;\n",
              "    }\n",
              "\n",
              "    .dataframe tbody tr th {\n",
              "        vertical-align: top;\n",
              "    }\n",
              "\n",
              "    .dataframe thead th {\n",
              "        text-align: right;\n",
              "    }\n",
              "</style>\n",
              "<table border=\"1\" class=\"dataframe\">\n",
              "  <thead>\n",
              "    <tr style=\"text-align: right;\">\n",
              "      <th></th>\n",
              "      <th>Post_id</th>\n",
              "      <th>Post</th>\n",
              "      <th>Intention</th>\n",
              "      <th>Date</th>\n",
              "      <th>Time</th>\n",
              "    </tr>\n",
              "  </thead>\n",
              "  <tbody>\n",
              "    <tr>\n",
              "      <th>0</th>\n",
              "      <td>1</td>\n",
              "      <td>[jadendaly, jumpman23, nikestore, nike, nikeba...</td>\n",
              "      <td>2.0</td>\n",
              "      <td>2021-09-05</td>\n",
              "      <td>00:55:25</td>\n",
              "    </tr>\n",
              "    <tr>\n",
              "      <th>1</th>\n",
              "      <td>2</td>\n",
              "      <td>[some, personal, news, after, almost, 8, years...</td>\n",
              "      <td>2.0</td>\n",
              "      <td>2021-09-05</td>\n",
              "      <td>00:55:05</td>\n",
              "    </tr>\n",
              "    <tr>\n",
              "      <th>2</th>\n",
              "      <td>3</td>\n",
              "      <td>[dcuo_cire, cookingnoodles1, nikestore, jumpma...</td>\n",
              "      <td>3.0</td>\n",
              "      <td>2021-09-05</td>\n",
              "      <td>00:43:13</td>\n",
              "    </tr>\n",
              "    <tr>\n",
              "      <th>3</th>\n",
              "      <td>4</td>\n",
              "      <td>[nike, it, not, allowing, me, to, dm, you, nik...</td>\n",
              "      <td>1.0</td>\n",
              "      <td>2021-09-05</td>\n",
              "      <td>00:41:01</td>\n",
              "    </tr>\n",
              "    <tr>\n",
              "      <th>4</th>\n",
              "      <td>5</td>\n",
              "      <td>[geejmasterflex, fedex, nike, fedexhelp, lt_56...</td>\n",
              "      <td>2.0</td>\n",
              "      <td>2021-09-05</td>\n",
              "      <td>00:35:02</td>\n",
              "    </tr>\n",
              "  </tbody>\n",
              "</table>\n",
              "</div>"
            ],
            "text/plain": [
              "   Post_id  ...      Time\n",
              "0        1  ...  00:55:25\n",
              "1        2  ...  00:55:05\n",
              "2        3  ...  00:43:13\n",
              "3        4  ...  00:41:01\n",
              "4        5  ...  00:35:02\n",
              "\n",
              "[5 rows x 5 columns]"
            ]
          },
          "metadata": {},
          "execution_count": 38
        }
      ]
    },
    {
      "cell_type": "markdown",
      "metadata": {
        "id": "f2_ADntdTq7D"
      },
      "source": [
        "### Stop Words"
      ]
    },
    {
      "cell_type": "code",
      "metadata": {
        "colab": {
          "base_uri": "https://localhost:8080/"
        },
        "id": "bvGL1CrWTp-v",
        "outputId": "f31e36c5-9091-46f9-90c1-e37a1380df2e"
      },
      "source": [
        "nltk.download('stopwords')"
      ],
      "execution_count": 39,
      "outputs": [
        {
          "output_type": "stream",
          "name": "stdout",
          "text": [
            "[nltk_data] Downloading package stopwords to /root/nltk_data...\n",
            "[nltk_data]   Unzipping corpora/stopwords.zip.\n"
          ]
        },
        {
          "output_type": "execute_result",
          "data": {
            "text/plain": [
              "True"
            ]
          },
          "metadata": {},
          "execution_count": 39
        }
      ]
    },
    {
      "cell_type": "code",
      "metadata": {
        "colab": {
          "base_uri": "https://localhost:8080/"
        },
        "id": "6izWk_2OX4Hc",
        "outputId": "cc7f8e4a-3a6c-4e27-bc43-edd33a158952"
      },
      "source": [
        "stopwords = nltk.corpus.stopwords.words('english')\n",
        "print(stopwords)"
      ],
      "execution_count": 40,
      "outputs": [
        {
          "output_type": "stream",
          "name": "stdout",
          "text": [
            "['i', 'me', 'my', 'myself', 'we', 'our', 'ours', 'ourselves', 'you', \"you're\", \"you've\", \"you'll\", \"you'd\", 'your', 'yours', 'yourself', 'yourselves', 'he', 'him', 'his', 'himself', 'she', \"she's\", 'her', 'hers', 'herself', 'it', \"it's\", 'its', 'itself', 'they', 'them', 'their', 'theirs', 'themselves', 'what', 'which', 'who', 'whom', 'this', 'that', \"that'll\", 'these', 'those', 'am', 'is', 'are', 'was', 'were', 'be', 'been', 'being', 'have', 'has', 'had', 'having', 'do', 'does', 'did', 'doing', 'a', 'an', 'the', 'and', 'but', 'if', 'or', 'because', 'as', 'until', 'while', 'of', 'at', 'by', 'for', 'with', 'about', 'against', 'between', 'into', 'through', 'during', 'before', 'after', 'above', 'below', 'to', 'from', 'up', 'down', 'in', 'out', 'on', 'off', 'over', 'under', 'again', 'further', 'then', 'once', 'here', 'there', 'when', 'where', 'why', 'how', 'all', 'any', 'both', 'each', 'few', 'more', 'most', 'other', 'some', 'such', 'no', 'nor', 'not', 'only', 'own', 'same', 'so', 'than', 'too', 'very', 's', 't', 'can', 'will', 'just', 'don', \"don't\", 'should', \"should've\", 'now', 'd', 'll', 'm', 'o', 're', 've', 'y', 'ain', 'aren', \"aren't\", 'couldn', \"couldn't\", 'didn', \"didn't\", 'doesn', \"doesn't\", 'hadn', \"hadn't\", 'hasn', \"hasn't\", 'haven', \"haven't\", 'isn', \"isn't\", 'ma', 'mightn', \"mightn't\", 'mustn', \"mustn't\", 'needn', \"needn't\", 'shan', \"shan't\", 'shouldn', \"shouldn't\", 'wasn', \"wasn't\", 'weren', \"weren't\", 'won', \"won't\", 'wouldn', \"wouldn't\"]\n"
          ]
        }
      ]
    },
    {
      "cell_type": "code",
      "metadata": {
        "id": "WmNdrl9vZpUL"
      },
      "source": [
        "# We don't want to remove certain words like 'no' or 'not', so we take it out of the stopwords list\n",
        "removed_stopwords = ['before', 'after', 'above', 'below', 'down', 'in', 'out', 'again', 'further','when', 'where', 'why', \"mustn't\", 'shouldn', \"shouldn't\", 'wasn', \"wasn't\", \"weren't\" \"won't\", 'wouldn', \"wouldn't\"]\n",
        "\n",
        "# Lets create a function to remove the desired stopwords from stopword list\n",
        "\n",
        "def Diff(li1, li2):\n",
        "    li_dif = [i for i in li1 + li2 if i not in li1 or i not in li2]\n",
        "    return li_dif\n"
      ],
      "execution_count": 41,
      "outputs": []
    },
    {
      "cell_type": "code",
      "metadata": {
        "id": "l5oxRGGNb_J8"
      },
      "source": [
        "# lets call the function Diff to remove the desire words from stopwords list\n",
        "\n",
        "stopwords = Diff(stopwords, removed_stopwords)"
      ],
      "execution_count": 42,
      "outputs": []
    },
    {
      "cell_type": "code",
      "metadata": {
        "id": "GGjDaFcZZ0Fr"
      },
      "source": [
        "def remove_stopwords(words):\n",
        "  new_words = []\n",
        "  for word in words:\n",
        "    if word not in stopwords:\n",
        "      new_words.append(word)\n",
        "  return new_words"
      ],
      "execution_count": 43,
      "outputs": []
    },
    {
      "cell_type": "code",
      "metadata": {
        "id": "zJIRFpeTcKli"
      },
      "source": [
        "ndata1['Post'] = ndata1['Post'].apply(lambda post: remove_stopwords(post))"
      ],
      "execution_count": 44,
      "outputs": []
    },
    {
      "cell_type": "code",
      "metadata": {
        "colab": {
          "base_uri": "https://localhost:8080/"
        },
        "id": "vl8Oy8CEcP8k",
        "outputId": "156b1fe4-ff55-4d51-b812-0b0f37fc0fcc"
      },
      "source": [
        "ndata1['Post']"
      ],
      "execution_count": 45,
      "outputs": [
        {
          "output_type": "execute_result",
          "data": {
            "text/plain": [
              "0      [jadendaly, jumpman23, nikestore, nike, nikeba...\n",
              "1      [personal, news, after, almost, 8, years, ia, ...\n",
              "2      [dcuo_cire, cookingnoodles1, nikestore, jumpma...\n",
              "3      [nike, allowing, dm, nikestore, basically, tol...\n",
              "4      [geejmasterflex, fedex, nike, fedexhelp, lt_56...\n",
              "                             ...                        \n",
              "522          [today, last, day, use, 25, nike, discount]\n",
              "523    [rubbershoes, sale, yyyyyy, nike, nikerunning,...\n",
              "524    [ad, steal, price, nike, jackets, sale, y , cl...\n",
              "525    [nike, sportswear, downfill, parka, jacket, wo...\n",
              "526    [n, k, e,  , p, r, w, e, r,  , w, n, f, l, l, ...\n",
              "Name: Post, Length: 526, dtype: object"
            ]
          },
          "metadata": {},
          "execution_count": 45
        }
      ]
    },
    {
      "cell_type": "markdown",
      "metadata": {
        "id": "3ydriEeqaCcB"
      },
      "source": [
        "### Special Characters"
      ]
    },
    {
      "cell_type": "code",
      "metadata": {
        "id": "1UeBqFxIaB1k"
      },
      "source": [
        "def remove_special_characters(words):\n",
        "  pattern = r'[^a-zA-z\\s]'\n",
        "  new_words = []\n",
        "  for word in words:\n",
        "    new_word = re.sub(pattern, '', word)\n",
        "    new_words.append(new_word)\n",
        "  return new_words"
      ],
      "execution_count": 46,
      "outputs": []
    },
    {
      "cell_type": "code",
      "metadata": {
        "id": "an2Vkw9Idqp6"
      },
      "source": [
        "ndata1['Post'] = ndata1['Post'].apply(lambda post: remove_special_characters(post))"
      ],
      "execution_count": 47,
      "outputs": []
    },
    {
      "cell_type": "markdown",
      "metadata": {
        "id": "iz8MGZ-Dd9Ep"
      },
      "source": [
        "### Remove Blank Words"
      ]
    },
    {
      "cell_type": "code",
      "metadata": {
        "id": "Mw4LLlf5eAG5"
      },
      "source": [
        "def remove_blanks(words):\n",
        "  new_words = []\n",
        "  for word in words:\n",
        "    if word != '':\n",
        "      new_words.append(word)\n",
        "  return new_words"
      ],
      "execution_count": 48,
      "outputs": []
    },
    {
      "cell_type": "code",
      "metadata": {
        "id": "U-UO-YqeeM2a"
      },
      "source": [
        "ndata1['Post'] = ndata1['Post'].apply(lambda post: remove_blanks(post))"
      ],
      "execution_count": 49,
      "outputs": []
    },
    {
      "cell_type": "code",
      "metadata": {
        "colab": {
          "base_uri": "https://localhost:8080/",
          "height": 0
        },
        "id": "urJOxPfweQEJ",
        "outputId": "01958498-42ae-4b58-e2ca-5110788faa67"
      },
      "source": [
        "ndata['Post'][4]"
      ],
      "execution_count": 50,
      "outputs": [
        {
          "output_type": "execute_result",
          "data": {
            "application/vnd.google.colaboratory.intrinsic+json": {
              "type": "string"
            },
            "text/plain": [
              "\"@geejmasterflex @FedEx @Nike @FedExHelp @LT_56 Now I'm asking if @LT_56 and Clarence would help me personally authenticate and promote an auction so that I can by my wife and children a nice house. We have a home I'm a hard worker but our home is falling \""
            ]
          },
          "metadata": {},
          "execution_count": 50
        }
      ]
    },
    {
      "cell_type": "code",
      "metadata": {
        "colab": {
          "base_uri": "https://localhost:8080/"
        },
        "id": "2pYBv8ien7T2",
        "outputId": "8cb4f81a-7f72-4761-ce07-14b240c936db"
      },
      "source": [
        "ndata1['Post'][4]"
      ],
      "execution_count": 51,
      "outputs": [
        {
          "output_type": "execute_result",
          "data": {
            "text/plain": [
              "['geejmasterflex',\n",
              " 'fedex',\n",
              " 'nike',\n",
              " 'fedexhelp',\n",
              " 'lt_',\n",
              " 'asking',\n",
              " 'lt_',\n",
              " 'clarence',\n",
              " 'would',\n",
              " 'help',\n",
              " 'personally',\n",
              " 'authenticate',\n",
              " 'promote',\n",
              " 'auction',\n",
              " 'wife',\n",
              " 'children',\n",
              " 'nice',\n",
              " 'house',\n",
              " 'home',\n",
              " 'hard',\n",
              " 'worker',\n",
              " 'home',\n",
              " 'falling']"
            ]
          },
          "metadata": {},
          "execution_count": 51
        }
      ]
    },
    {
      "cell_type": "code",
      "metadata": {
        "colab": {
          "base_uri": "https://localhost:8080/",
          "height": 0
        },
        "id": "TA67YaDvn5u_",
        "outputId": "528fb099-477b-41b4-a312-5d21be5c08ce"
      },
      "source": [
        "ndata['Post'][28]"
      ],
      "execution_count": 52,
      "outputs": [
        {
          "output_type": "execute_result",
          "data": {
            "application/vnd.google.colaboratory.intrinsic+json": {
              "type": "string"
            },
            "text/plain": [
              "'Got In today Sold Today  Jordan 1 Mid Racer Blue GS  Size: UK  Y US   Y Copped of Nike âœ…Deadstockâœ… Instagram: Ks.creps  Depop:  ðŸŽ‰Happy Coustomer '"
            ]
          },
          "metadata": {},
          "execution_count": 52
        }
      ]
    },
    {
      "cell_type": "code",
      "metadata": {
        "colab": {
          "base_uri": "https://localhost:8080/"
        },
        "id": "SaWvfm6VkFCU",
        "outputId": "c47fd61a-f97d-4be6-8e83-1321b227c30a"
      },
      "source": [
        "ndata1['Post'][28]"
      ],
      "execution_count": 53,
      "outputs": [
        {
          "output_type": "execute_result",
          "data": {
            "text/plain": [
              "['got',\n",
              " 'in',\n",
              " 'today',\n",
              " 'sold',\n",
              " 'today',\n",
              " 'jordan',\n",
              " 'mid',\n",
              " 'racer',\n",
              " 'blue',\n",
              " 'gs',\n",
              " 'size',\n",
              " 'uk',\n",
              " 'us',\n",
              " 'copped',\n",
              " 'nike',\n",
              " 'deadstocka',\n",
              " 'instagram',\n",
              " 'kscreps',\n",
              " 'depop',\n",
              " 'yzhappy',\n",
              " 'coustomer']"
            ]
          },
          "metadata": {},
          "execution_count": 53
        }
      ]
    },
    {
      "cell_type": "markdown",
      "metadata": {
        "id": "Hz_staDhofSR"
      },
      "source": [
        "### Lemmatize"
      ]
    },
    {
      "cell_type": "code",
      "metadata": {
        "colab": {
          "base_uri": "https://localhost:8080/"
        },
        "id": "KdrIskmqoeVA",
        "outputId": "aa656a5d-be1a-4025-af7a-a4e22a005af3"
      },
      "source": [
        "from nltk.stem import WordNetLemmatizer\n",
        "nltk.download('wordnet')\n",
        "  \n",
        "lemmatizer = WordNetLemmatizer()\n",
        "  \n",
        "print(\"rocks :\", lemmatizer.lemmatize(\"rocks\"))\n",
        "print(\"corpora :\", lemmatizer.lemmatize(\"corpora\"))"
      ],
      "execution_count": 54,
      "outputs": [
        {
          "output_type": "stream",
          "name": "stdout",
          "text": [
            "[nltk_data] Downloading package wordnet to /root/nltk_data...\n",
            "[nltk_data]   Unzipping corpora/wordnet.zip.\n",
            "rocks : rock\n",
            "corpora : corpus\n"
          ]
        }
      ]
    },
    {
      "cell_type": "code",
      "metadata": {
        "id": "t54Nj3svolP_"
      },
      "source": [
        "def lemmatize_words(words):\n",
        "  new_words = []\n",
        "  for word in words:\n",
        "    new_word = lemmatizer.lemmatize(word)\n",
        "    new_words.append(new_word)\n",
        "  return new_words"
      ],
      "execution_count": 55,
      "outputs": []
    },
    {
      "cell_type": "code",
      "metadata": {
        "id": "7UQ2sNeeo3i_"
      },
      "source": [
        "ndata1['Post'] = ndata1['Post'].apply(lambda post: lemmatize_words(post))"
      ],
      "execution_count": 56,
      "outputs": []
    },
    {
      "cell_type": "code",
      "metadata": {
        "colab": {
          "base_uri": "https://localhost:8080/",
          "height": 0
        },
        "id": "Hl0aeyXxpirG",
        "outputId": "57fefd8a-b0ca-49e7-8e73-9ff4e6157645"
      },
      "source": [
        "ndata['Post'][45]"
      ],
      "execution_count": 57,
      "outputs": [
        {
          "output_type": "execute_result",
          "data": {
            "application/vnd.google.colaboratory.intrinsic+json": {
              "type": "string"
            },
            "text/plain": [
              "'@soleguru @Jumpman23 @nikestore @Nike Copped them for retail. Such an amazing pair'"
            ]
          },
          "metadata": {},
          "execution_count": 57
        }
      ]
    },
    {
      "cell_type": "code",
      "metadata": {
        "colab": {
          "base_uri": "https://localhost:8080/"
        },
        "id": "aSKpyBAipk7V",
        "outputId": "ee3aa778-eeef-4de1-ddc9-57e1d007fd22"
      },
      "source": [
        "ndata1['Post'][45]"
      ],
      "execution_count": 58,
      "outputs": [
        {
          "output_type": "execute_result",
          "data": {
            "text/plain": [
              "['soleguru',\n",
              " 'jumpman',\n",
              " 'nikestore',\n",
              " 'nike',\n",
              " 'copped',\n",
              " 'retail',\n",
              " 'amazing',\n",
              " 'pair']"
            ]
          },
          "metadata": {},
          "execution_count": 58
        }
      ]
    },
    {
      "cell_type": "markdown",
      "metadata": {
        "id": "swuz2adbfSNr"
      },
      "source": [
        "# Exploration of Pre-Processed Corpus"
      ]
    },
    {
      "cell_type": "code",
      "metadata": {
        "colab": {
          "base_uri": "https://localhost:8080/",
          "height": 0
        },
        "id": "SYLEgSVkfRuy",
        "outputId": "ac83fafb-6309-49fa-fa5e-42c9d7c829e9"
      },
      "source": [
        "from collections import Counter\n",
        "\n",
        "top = Counter([item for sublist in ndata1['Post'] for item in sublist])\n",
        "freq = pd.DataFrame(top.most_common(20))\n",
        "freq.columns = ['Common_words','Count']\n",
        "freq.style.background_gradient(cmap='Reds')"
      ],
      "execution_count": 59,
      "outputs": [
        {
          "output_type": "execute_result",
          "data": {
            "text/html": [
              "<style  type=\"text/css\" >\n",
              "#T_2aa54826_0f6f_11ec_a372_0242ac1c0002row0_col1{\n",
              "            background-color:  #67000d;\n",
              "            color:  #f1f1f1;\n",
              "        }#T_2aa54826_0f6f_11ec_a372_0242ac1c0002row1_col1{\n",
              "            background-color:  #fdc7b2;\n",
              "            color:  #000000;\n",
              "        }#T_2aa54826_0f6f_11ec_a372_0242ac1c0002row2_col1{\n",
              "            background-color:  #fdcbb6;\n",
              "            color:  #000000;\n",
              "        }#T_2aa54826_0f6f_11ec_a372_0242ac1c0002row3_col1{\n",
              "            background-color:  #fdd3c1;\n",
              "            color:  #000000;\n",
              "        }#T_2aa54826_0f6f_11ec_a372_0242ac1c0002row4_col1{\n",
              "            background-color:  #fee5d8;\n",
              "            color:  #000000;\n",
              "        }#T_2aa54826_0f6f_11ec_a372_0242ac1c0002row5_col1{\n",
              "            background-color:  #fee9df;\n",
              "            color:  #000000;\n",
              "        }#T_2aa54826_0f6f_11ec_a372_0242ac1c0002row6_col1{\n",
              "            background-color:  #fff0e8;\n",
              "            color:  #000000;\n",
              "        }#T_2aa54826_0f6f_11ec_a372_0242ac1c0002row7_col1{\n",
              "            background-color:  #fff1ea;\n",
              "            color:  #000000;\n",
              "        }#T_2aa54826_0f6f_11ec_a372_0242ac1c0002row8_col1,#T_2aa54826_0f6f_11ec_a372_0242ac1c0002row9_col1,#T_2aa54826_0f6f_11ec_a372_0242ac1c0002row10_col1{\n",
              "            background-color:  #fff2ec;\n",
              "            color:  #000000;\n",
              "        }#T_2aa54826_0f6f_11ec_a372_0242ac1c0002row11_col1,#T_2aa54826_0f6f_11ec_a372_0242ac1c0002row12_col1{\n",
              "            background-color:  #fff3ed;\n",
              "            color:  #000000;\n",
              "        }#T_2aa54826_0f6f_11ec_a372_0242ac1c0002row13_col1,#T_2aa54826_0f6f_11ec_a372_0242ac1c0002row14_col1,#T_2aa54826_0f6f_11ec_a372_0242ac1c0002row15_col1{\n",
              "            background-color:  #fff4ee;\n",
              "            color:  #000000;\n",
              "        }#T_2aa54826_0f6f_11ec_a372_0242ac1c0002row16_col1,#T_2aa54826_0f6f_11ec_a372_0242ac1c0002row17_col1{\n",
              "            background-color:  #fff4ef;\n",
              "            color:  #000000;\n",
              "        }#T_2aa54826_0f6f_11ec_a372_0242ac1c0002row18_col1,#T_2aa54826_0f6f_11ec_a372_0242ac1c0002row19_col1{\n",
              "            background-color:  #fff5f0;\n",
              "            color:  #000000;\n",
              "        }</style><table id=\"T_2aa54826_0f6f_11ec_a372_0242ac1c0002\" ><thead>    <tr>        <th class=\"blank level0\" ></th>        <th class=\"col_heading level0 col0\" >Common_words</th>        <th class=\"col_heading level0 col1\" >Count</th>    </tr></thead><tbody>\n",
              "                <tr>\n",
              "                        <th id=\"T_2aa54826_0f6f_11ec_a372_0242ac1c0002level0_row0\" class=\"row_heading level0 row0\" >0</th>\n",
              "                        <td id=\"T_2aa54826_0f6f_11ec_a372_0242ac1c0002row0_col0\" class=\"data row0 col0\" >nike</td>\n",
              "                        <td id=\"T_2aa54826_0f6f_11ec_a372_0242ac1c0002row0_col1\" class=\"data row0 col1\" >522</td>\n",
              "            </tr>\n",
              "            <tr>\n",
              "                        <th id=\"T_2aa54826_0f6f_11ec_a372_0242ac1c0002level0_row1\" class=\"row_heading level0 row1\" >1</th>\n",
              "                        <td id=\"T_2aa54826_0f6f_11ec_a372_0242ac1c0002row1_col0\" class=\"data row1 col0\" >sale</td>\n",
              "                        <td id=\"T_2aa54826_0f6f_11ec_a372_0242ac1c0002row1_col1\" class=\"data row1 col1\" >136</td>\n",
              "            </tr>\n",
              "            <tr>\n",
              "                        <th id=\"T_2aa54826_0f6f_11ec_a372_0242ac1c0002level0_row2\" class=\"row_heading level0 row2\" >2</th>\n",
              "                        <td id=\"T_2aa54826_0f6f_11ec_a372_0242ac1c0002row2_col0\" class=\"data row2 col0\" >in</td>\n",
              "                        <td id=\"T_2aa54826_0f6f_11ec_a372_0242ac1c0002row2_col1\" class=\"data row2 col1\" >132</td>\n",
              "            </tr>\n",
              "            <tr>\n",
              "                        <th id=\"T_2aa54826_0f6f_11ec_a372_0242ac1c0002level0_row3\" class=\"row_heading level0 row3\" >3</th>\n",
              "                        <td id=\"T_2aa54826_0f6f_11ec_a372_0242ac1c0002row3_col0\" class=\"data row3 col0\" >gt</td>\n",
              "                        <td id=\"T_2aa54826_0f6f_11ec_a372_0242ac1c0002row3_col1\" class=\"data row3 col1\" >118</td>\n",
              "            </tr>\n",
              "            <tr>\n",
              "                        <th id=\"T_2aa54826_0f6f_11ec_a372_0242ac1c0002level0_row4\" class=\"row_heading level0 row4\" >4</th>\n",
              "                        <td id=\"T_2aa54826_0f6f_11ec_a372_0242ac1c0002row4_col0\" class=\"data row4 col0\" >tm</td>\n",
              "                        <td id=\"T_2aa54826_0f6f_11ec_a372_0242ac1c0002row4_col1\" class=\"data row4 col1\" >84</td>\n",
              "            </tr>\n",
              "            <tr>\n",
              "                        <th id=\"T_2aa54826_0f6f_11ec_a372_0242ac1c0002level0_row5\" class=\"row_heading level0 row5\" >5</th>\n",
              "                        <td id=\"T_2aa54826_0f6f_11ec_a372_0242ac1c0002row5_col0\" class=\"data row5 col0\" >air</td>\n",
              "                        <td id=\"T_2aa54826_0f6f_11ec_a372_0242ac1c0002row5_col1\" class=\"data row5 col1\" >71</td>\n",
              "            </tr>\n",
              "            <tr>\n",
              "                        <th id=\"T_2aa54826_0f6f_11ec_a372_0242ac1c0002level0_row6\" class=\"row_heading level0 row6\" >6</th>\n",
              "                        <td id=\"T_2aa54826_0f6f_11ec_a372_0242ac1c0002row6_col0\" class=\"data row6 col0\" >shoe</td>\n",
              "                        <td id=\"T_2aa54826_0f6f_11ec_a372_0242ac1c0002row6_col1\" class=\"data row6 col1\" >52</td>\n",
              "            </tr>\n",
              "            <tr>\n",
              "                        <th id=\"T_2aa54826_0f6f_11ec_a372_0242ac1c0002level0_row7\" class=\"row_heading level0 row7\" >7</th>\n",
              "                        <td id=\"T_2aa54826_0f6f_11ec_a372_0242ac1c0002row7_col0\" class=\"data row7 col0\" >like</td>\n",
              "                        <td id=\"T_2aa54826_0f6f_11ec_a372_0242ac1c0002row7_col1\" class=\"data row7 col1\" >48</td>\n",
              "            </tr>\n",
              "            <tr>\n",
              "                        <th id=\"T_2aa54826_0f6f_11ec_a372_0242ac1c0002level0_row8\" class=\"row_heading level0 row8\" >8</th>\n",
              "                        <td id=\"T_2aa54826_0f6f_11ec_a372_0242ac1c0002row8_col0\" class=\"data row8 col0\" >u</td>\n",
              "                        <td id=\"T_2aa54826_0f6f_11ec_a372_0242ac1c0002row8_col1\" class=\"data row8 col1\" >44</td>\n",
              "            </tr>\n",
              "            <tr>\n",
              "                        <th id=\"T_2aa54826_0f6f_11ec_a372_0242ac1c0002level0_row9\" class=\"row_heading level0 row9\" >9</th>\n",
              "                        <td id=\"T_2aa54826_0f6f_11ec_a372_0242ac1c0002row9_col0\" class=\"data row9 col0\" >get</td>\n",
              "                        <td id=\"T_2aa54826_0f6f_11ec_a372_0242ac1c0002row9_col1\" class=\"data row9 col1\" >44</td>\n",
              "            </tr>\n",
              "            <tr>\n",
              "                        <th id=\"T_2aa54826_0f6f_11ec_a372_0242ac1c0002level0_row10\" class=\"row_heading level0 row10\" >10</th>\n",
              "                        <td id=\"T_2aa54826_0f6f_11ec_a372_0242ac1c0002row10_col0\" class=\"data row10 col0\" >shop</td>\n",
              "                        <td id=\"T_2aa54826_0f6f_11ec_a372_0242ac1c0002row10_col1\" class=\"data row10 col1\" >44</td>\n",
              "            </tr>\n",
              "            <tr>\n",
              "                        <th id=\"T_2aa54826_0f6f_11ec_a372_0242ac1c0002level0_row11\" class=\"row_heading level0 row11\" >11</th>\n",
              "                        <td id=\"T_2aa54826_0f6f_11ec_a372_0242ac1c0002row11_col0\" class=\"data row11 col0\" >out</td>\n",
              "                        <td id=\"T_2aa54826_0f6f_11ec_a372_0242ac1c0002row11_col1\" class=\"data row11 col1\" >42</td>\n",
              "            </tr>\n",
              "            <tr>\n",
              "                        <th id=\"T_2aa54826_0f6f_11ec_a372_0242ac1c0002level0_row12\" class=\"row_heading level0 row12\" >12</th>\n",
              "                        <td id=\"T_2aa54826_0f6f_11ec_a372_0242ac1c0002row12_col0\" class=\"data row12 col0\" >size</td>\n",
              "                        <td id=\"T_2aa54826_0f6f_11ec_a372_0242ac1c0002row12_col1\" class=\"data row12 col1\" >42</td>\n",
              "            </tr>\n",
              "            <tr>\n",
              "                        <th id=\"T_2aa54826_0f6f_11ec_a372_0242ac1c0002level0_row13\" class=\"row_heading level0 row13\" >13</th>\n",
              "                        <td id=\"T_2aa54826_0f6f_11ec_a372_0242ac1c0002row13_col0\" class=\"data row13 col0\" >happy</td>\n",
              "                        <td id=\"T_2aa54826_0f6f_11ec_a372_0242ac1c0002row13_col1\" class=\"data row13 col1\" >40</td>\n",
              "            </tr>\n",
              "            <tr>\n",
              "                        <th id=\"T_2aa54826_0f6f_11ec_a372_0242ac1c0002level0_row14\" class=\"row_heading level0 row14\" >14</th>\n",
              "                        <td id=\"T_2aa54826_0f6f_11ec_a372_0242ac1c0002row14_col0\" class=\"data row14 col0\" >ia</td>\n",
              "                        <td id=\"T_2aa54826_0f6f_11ec_a372_0242ac1c0002row14_col1\" class=\"data row14 col1\" >39</td>\n",
              "            </tr>\n",
              "            <tr>\n",
              "                        <th id=\"T_2aa54826_0f6f_11ec_a372_0242ac1c0002level0_row15\" class=\"row_heading level0 row15\" >15</th>\n",
              "                        <td id=\"T_2aa54826_0f6f_11ec_a372_0242ac1c0002row15_col0\" class=\"data row15 col0\" >selling</td>\n",
              "                        <td id=\"T_2aa54826_0f6f_11ec_a372_0242ac1c0002row15_col1\" class=\"data row15 col1\" >39</td>\n",
              "            </tr>\n",
              "            <tr>\n",
              "                        <th id=\"T_2aa54826_0f6f_11ec_a372_0242ac1c0002level0_row16\" class=\"row_heading level0 row16\" >16</th>\n",
              "                        <td id=\"T_2aa54826_0f6f_11ec_a372_0242ac1c0002row16_col0\" class=\"data row16 col0\" >amp</td>\n",
              "                        <td id=\"T_2aa54826_0f6f_11ec_a372_0242ac1c0002row16_col1\" class=\"data row16 col1\" >37</td>\n",
              "            </tr>\n",
              "            <tr>\n",
              "                        <th id=\"T_2aa54826_0f6f_11ec_a372_0242ac1c0002level0_row17\" class=\"row_heading level0 row17\" >17</th>\n",
              "                        <td id=\"T_2aa54826_0f6f_11ec_a372_0242ac1c0002row17_col0\" class=\"data row17 col0\" >ad</td>\n",
              "                        <td id=\"T_2aa54826_0f6f_11ec_a372_0242ac1c0002row17_col1\" class=\"data row17 col1\" >37</td>\n",
              "            </tr>\n",
              "            <tr>\n",
              "                        <th id=\"T_2aa54826_0f6f_11ec_a372_0242ac1c0002level0_row18\" class=\"row_heading level0 row18\" >18</th>\n",
              "                        <td id=\"T_2aa54826_0f6f_11ec_a372_0242ac1c0002row18_col0\" class=\"data row18 col0\" >ita</td>\n",
              "                        <td id=\"T_2aa54826_0f6f_11ec_a372_0242ac1c0002row18_col1\" class=\"data row18 col1\" >36</td>\n",
              "            </tr>\n",
              "            <tr>\n",
              "                        <th id=\"T_2aa54826_0f6f_11ec_a372_0242ac1c0002level0_row19\" class=\"row_heading level0 row19\" >19</th>\n",
              "                        <td id=\"T_2aa54826_0f6f_11ec_a372_0242ac1c0002row19_col0\" class=\"data row19 col0\" >one</td>\n",
              "                        <td id=\"T_2aa54826_0f6f_11ec_a372_0242ac1c0002row19_col1\" class=\"data row19 col1\" >35</td>\n",
              "            </tr>\n",
              "    </tbody></table>"
            ],
            "text/plain": [
              "<pandas.io.formats.style.Styler at 0x7ff83f940a50>"
            ]
          },
          "metadata": {},
          "execution_count": 59
        }
      ]
    },
    {
      "cell_type": "markdown",
      "metadata": {
        "id": "LQU-LFGHANvu"
      },
      "source": [
        "# Intention To Buy"
      ]
    },
    {
      "cell_type": "code",
      "metadata": {
        "id": "NScRQe2CE9q6"
      },
      "source": [
        "ndata2 = ndata1.copy()"
      ],
      "execution_count": 60,
      "outputs": []
    },
    {
      "cell_type": "code",
      "metadata": {
        "id": "XaOnUt_57jKJ"
      },
      "source": [
        "# Converting the Post to string type for our analysis\n",
        "\n",
        "ndata1.Intention = ndata1.Intention.astype('category')\n",
        "# Converting the Post to string type for our analysis\n",
        "\n",
        "ndata.Post = ndata.Post.astype(str)"
      ],
      "execution_count": 61,
      "outputs": []
    },
    {
      "cell_type": "code",
      "metadata": {
        "colab": {
          "base_uri": "https://localhost:8080/"
        },
        "id": "sw6VkfDV8biY",
        "outputId": "81366e5d-12c7-4b6b-aa1e-9f6860f5e07e"
      },
      "source": [
        "ndata1.dtypes"
      ],
      "execution_count": 62,
      "outputs": [
        {
          "output_type": "execute_result",
          "data": {
            "text/plain": [
              "Post_id         int64\n",
              "Post           object\n",
              "Intention    category\n",
              "Date           object\n",
              "Time           object\n",
              "dtype: object"
            ]
          },
          "metadata": {},
          "execution_count": 62
        }
      ]
    },
    {
      "cell_type": "code",
      "metadata": {
        "colab": {
          "base_uri": "https://localhost:8080/",
          "height": 206
        },
        "id": "9DWjwVl74wgG",
        "outputId": "5a33d881-ae05-4025-a3ea-8fdabacf4ea9"
      },
      "source": [
        "ndata1.head()"
      ],
      "execution_count": 63,
      "outputs": [
        {
          "output_type": "execute_result",
          "data": {
            "text/html": [
              "<div>\n",
              "<style scoped>\n",
              "    .dataframe tbody tr th:only-of-type {\n",
              "        vertical-align: middle;\n",
              "    }\n",
              "\n",
              "    .dataframe tbody tr th {\n",
              "        vertical-align: top;\n",
              "    }\n",
              "\n",
              "    .dataframe thead th {\n",
              "        text-align: right;\n",
              "    }\n",
              "</style>\n",
              "<table border=\"1\" class=\"dataframe\">\n",
              "  <thead>\n",
              "    <tr style=\"text-align: right;\">\n",
              "      <th></th>\n",
              "      <th>Post_id</th>\n",
              "      <th>Post</th>\n",
              "      <th>Intention</th>\n",
              "      <th>Date</th>\n",
              "      <th>Time</th>\n",
              "    </tr>\n",
              "  </thead>\n",
              "  <tbody>\n",
              "    <tr>\n",
              "      <th>0</th>\n",
              "      <td>1</td>\n",
              "      <td>[jadendaly, jumpman, nikestore, nike, nikebask...</td>\n",
              "      <td>2.0</td>\n",
              "      <td>2021-09-05</td>\n",
              "      <td>00:55:25</td>\n",
              "    </tr>\n",
              "    <tr>\n",
              "      <th>1</th>\n",
              "      <td>2</td>\n",
              "      <td>[personal, news, after, almost, year, ia, tmve...</td>\n",
              "      <td>2.0</td>\n",
              "      <td>2021-09-05</td>\n",
              "      <td>00:55:05</td>\n",
              "    </tr>\n",
              "    <tr>\n",
              "      <th>2</th>\n",
              "      <td>3</td>\n",
              "      <td>[dcuo_cire, cookingnoodles, nikestore, jumpman...</td>\n",
              "      <td>3.0</td>\n",
              "      <td>2021-09-05</td>\n",
              "      <td>00:43:13</td>\n",
              "    </tr>\n",
              "    <tr>\n",
              "      <th>3</th>\n",
              "      <td>4</td>\n",
              "      <td>[nike, allowing, dm, nikestore, basically, tol...</td>\n",
              "      <td>1.0</td>\n",
              "      <td>2021-09-05</td>\n",
              "      <td>00:41:01</td>\n",
              "    </tr>\n",
              "    <tr>\n",
              "      <th>4</th>\n",
              "      <td>5</td>\n",
              "      <td>[geejmasterflex, fedex, nike, fedexhelp, lt_, ...</td>\n",
              "      <td>2.0</td>\n",
              "      <td>2021-09-05</td>\n",
              "      <td>00:35:02</td>\n",
              "    </tr>\n",
              "  </tbody>\n",
              "</table>\n",
              "</div>"
            ],
            "text/plain": [
              "   Post_id  ...      Time\n",
              "0        1  ...  00:55:25\n",
              "1        2  ...  00:55:05\n",
              "2        3  ...  00:43:13\n",
              "3        4  ...  00:41:01\n",
              "4        5  ...  00:35:02\n",
              "\n",
              "[5 rows x 5 columns]"
            ]
          },
          "metadata": {},
          "execution_count": 63
        }
      ]
    },
    {
      "cell_type": "markdown",
      "metadata": {
        "id": "6uSOCe6o4F4A"
      },
      "source": [
        "### Hand Labelling"
      ]
    },
    {
      "cell_type": "markdown",
      "metadata": {
        "id": "0H-b2fz9FN52"
      },
      "source": [
        "The dataset we are using has been handlabled in excel file"
      ]
    },
    {
      "cell_type": "markdown",
      "metadata": {
        "id": "BaRjh90mAghe"
      },
      "source": [
        "We'll manually label a sample of our posts, and grade them on a scale of 1 to 4:\n",
        "\n",
        "1.   Definitely not going to make a purchase\n",
        "  *   An upset customer (might need attention)\n",
        "2.   Neutral\n",
        "  *   Simply commenting\n",
        "3.   Possibly going to purchase\n",
        "  *   Product inquiry\n",
        "4.   Likely to purchase\n",
        "  *   Wants to know how/where to purchase product\n"
      ]
    },
    {
      "cell_type": "markdown",
      "metadata": {
        "id": "mTOl4tYLH_uz"
      },
      "source": [
        "Now, let's split our 2021 data into a subset of hand-labeled manual labels and a subset to test our model on. Within our hand-labeled subset, we'll split that into training, testing, and validation sets. We can set the rest aside as data that we can use to put our model into \"production\""
      ]
    },
    {
      "cell_type": "markdown",
      "metadata": {
        "id": "iydQWi3f4N8k"
      },
      "source": [
        "### Split data into Train/Test/Validation"
      ]
    },
    {
      "cell_type": "markdown",
      "metadata": {
        "id": "eZUVi4-HP7jy"
      },
      "source": [
        "While we kept the posts in sentence form for human readability purposes, we should feed our model tokenized words."
      ]
    },
    {
      "cell_type": "code",
      "metadata": {
        "colab": {
          "base_uri": "https://localhost:8080/",
          "height": 206
        },
        "id": "dqjVqnpXN1V2",
        "outputId": "f184c24e-5a46-4e3c-e39d-304baace13ca"
      },
      "source": [
        "mdata = ndata1\n",
        "mdata.head()"
      ],
      "execution_count": 64,
      "outputs": [
        {
          "output_type": "execute_result",
          "data": {
            "text/html": [
              "<div>\n",
              "<style scoped>\n",
              "    .dataframe tbody tr th:only-of-type {\n",
              "        vertical-align: middle;\n",
              "    }\n",
              "\n",
              "    .dataframe tbody tr th {\n",
              "        vertical-align: top;\n",
              "    }\n",
              "\n",
              "    .dataframe thead th {\n",
              "        text-align: right;\n",
              "    }\n",
              "</style>\n",
              "<table border=\"1\" class=\"dataframe\">\n",
              "  <thead>\n",
              "    <tr style=\"text-align: right;\">\n",
              "      <th></th>\n",
              "      <th>Post_id</th>\n",
              "      <th>Post</th>\n",
              "      <th>Intention</th>\n",
              "      <th>Date</th>\n",
              "      <th>Time</th>\n",
              "    </tr>\n",
              "  </thead>\n",
              "  <tbody>\n",
              "    <tr>\n",
              "      <th>0</th>\n",
              "      <td>1</td>\n",
              "      <td>[jadendaly, jumpman, nikestore, nike, nikebask...</td>\n",
              "      <td>2.0</td>\n",
              "      <td>2021-09-05</td>\n",
              "      <td>00:55:25</td>\n",
              "    </tr>\n",
              "    <tr>\n",
              "      <th>1</th>\n",
              "      <td>2</td>\n",
              "      <td>[personal, news, after, almost, year, ia, tmve...</td>\n",
              "      <td>2.0</td>\n",
              "      <td>2021-09-05</td>\n",
              "      <td>00:55:05</td>\n",
              "    </tr>\n",
              "    <tr>\n",
              "      <th>2</th>\n",
              "      <td>3</td>\n",
              "      <td>[dcuo_cire, cookingnoodles, nikestore, jumpman...</td>\n",
              "      <td>3.0</td>\n",
              "      <td>2021-09-05</td>\n",
              "      <td>00:43:13</td>\n",
              "    </tr>\n",
              "    <tr>\n",
              "      <th>3</th>\n",
              "      <td>4</td>\n",
              "      <td>[nike, allowing, dm, nikestore, basically, tol...</td>\n",
              "      <td>1.0</td>\n",
              "      <td>2021-09-05</td>\n",
              "      <td>00:41:01</td>\n",
              "    </tr>\n",
              "    <tr>\n",
              "      <th>4</th>\n",
              "      <td>5</td>\n",
              "      <td>[geejmasterflex, fedex, nike, fedexhelp, lt_, ...</td>\n",
              "      <td>2.0</td>\n",
              "      <td>2021-09-05</td>\n",
              "      <td>00:35:02</td>\n",
              "    </tr>\n",
              "  </tbody>\n",
              "</table>\n",
              "</div>"
            ],
            "text/plain": [
              "   Post_id  ...      Time\n",
              "0        1  ...  00:55:25\n",
              "1        2  ...  00:55:05\n",
              "2        3  ...  00:43:13\n",
              "3        4  ...  00:41:01\n",
              "4        5  ...  00:35:02\n",
              "\n",
              "[5 rows x 5 columns]"
            ]
          },
          "metadata": {},
          "execution_count": 64
        }
      ]
    },
    {
      "cell_type": "code",
      "metadata": {
        "id": "SuBA2_703HaR"
      },
      "source": [
        "concat_posts = []\n",
        "for post in mdata['Post']:\n",
        "  new_post = ''\n",
        "  for word in post:\n",
        "    new_post += ' ' + word\n",
        "  new_post = new_post[1:]\n",
        "  concat_posts.append(new_post)"
      ],
      "execution_count": 65,
      "outputs": []
    },
    {
      "cell_type": "code",
      "metadata": {
        "colab": {
          "base_uri": "https://localhost:8080/",
          "height": 206
        },
        "id": "mxIDVwRb3g_u",
        "outputId": "078de7e1-fe6e-4859-b29f-2753f77f9bde"
      },
      "source": [
        "mdata['Post'] = concat_posts\n",
        "\n",
        "mdata.head()"
      ],
      "execution_count": 66,
      "outputs": [
        {
          "output_type": "execute_result",
          "data": {
            "text/html": [
              "<div>\n",
              "<style scoped>\n",
              "    .dataframe tbody tr th:only-of-type {\n",
              "        vertical-align: middle;\n",
              "    }\n",
              "\n",
              "    .dataframe tbody tr th {\n",
              "        vertical-align: top;\n",
              "    }\n",
              "\n",
              "    .dataframe thead th {\n",
              "        text-align: right;\n",
              "    }\n",
              "</style>\n",
              "<table border=\"1\" class=\"dataframe\">\n",
              "  <thead>\n",
              "    <tr style=\"text-align: right;\">\n",
              "      <th></th>\n",
              "      <th>Post_id</th>\n",
              "      <th>Post</th>\n",
              "      <th>Intention</th>\n",
              "      <th>Date</th>\n",
              "      <th>Time</th>\n",
              "    </tr>\n",
              "  </thead>\n",
              "  <tbody>\n",
              "    <tr>\n",
              "      <th>0</th>\n",
              "      <td>1</td>\n",
              "      <td>jadendaly jumpman nikestore nike nikebasketbal...</td>\n",
              "      <td>2.0</td>\n",
              "      <td>2021-09-05</td>\n",
              "      <td>00:55:25</td>\n",
              "    </tr>\n",
              "    <tr>\n",
              "      <th>1</th>\n",
              "      <td>2</td>\n",
              "      <td>personal news after almost year ia tmve decide...</td>\n",
              "      <td>2.0</td>\n",
              "      <td>2021-09-05</td>\n",
              "      <td>00:55:05</td>\n",
              "    </tr>\n",
              "    <tr>\n",
              "      <th>2</th>\n",
              "      <td>3</td>\n",
              "      <td>dcuo_cire cookingnoodles nikestore jumpman nik...</td>\n",
              "      <td>3.0</td>\n",
              "      <td>2021-09-05</td>\n",
              "      <td>00:43:13</td>\n",
              "    </tr>\n",
              "    <tr>\n",
              "      <th>3</th>\n",
              "      <td>4</td>\n",
              "      <td>nike allowing dm nikestore basically told noth...</td>\n",
              "      <td>1.0</td>\n",
              "      <td>2021-09-05</td>\n",
              "      <td>00:41:01</td>\n",
              "    </tr>\n",
              "    <tr>\n",
              "      <th>4</th>\n",
              "      <td>5</td>\n",
              "      <td>geejmasterflex fedex nike fedexhelp lt_ asking...</td>\n",
              "      <td>2.0</td>\n",
              "      <td>2021-09-05</td>\n",
              "      <td>00:35:02</td>\n",
              "    </tr>\n",
              "  </tbody>\n",
              "</table>\n",
              "</div>"
            ],
            "text/plain": [
              "   Post_id  ...      Time\n",
              "0        1  ...  00:55:25\n",
              "1        2  ...  00:55:05\n",
              "2        3  ...  00:43:13\n",
              "3        4  ...  00:41:01\n",
              "4        5  ...  00:35:02\n",
              "\n",
              "[5 rows x 5 columns]"
            ]
          },
          "metadata": {},
          "execution_count": 66
        }
      ]
    },
    {
      "cell_type": "code",
      "metadata": {
        "id": "xcItuFhF4NeM"
      },
      "source": [
        "train_data = mdata[['Post', 'Intention']]\n",
        "\n",
        "X = train_data['Post']\n",
        "y = train_data['Intention']\n",
        "\n",
        "from sklearn.model_selection import train_test_split\n",
        "\n",
        "X_train, X_test, y_train, y_test = train_test_split(X, y, test_size = 0.3)"
      ],
      "execution_count": 538,
      "outputs": []
    },
    {
      "cell_type": "code",
      "metadata": {
        "colab": {
          "base_uri": "https://localhost:8080/"
        },
        "id": "xrUCkvLpWi65",
        "outputId": "d7dbfeee-eb92-44c7-d47b-5a6b49f0fa57"
      },
      "source": [
        "print('X_train shape: {}'.format(X_train.shape))\n",
        "print('y_train shape: {}'.format(y_train.shape))\n",
        "print()\n",
        "print('X_test shape: {}'.format(X_test.shape))\n",
        "print('y_test shape: {}'.format(y_test.shape))"
      ],
      "execution_count": 539,
      "outputs": [
        {
          "output_type": "stream",
          "name": "stdout",
          "text": [
            "X_train shape: (368,)\n",
            "y_train shape: (368,)\n",
            "\n",
            "X_test shape: (158,)\n",
            "y_test shape: (158,)\n"
          ]
        }
      ]
    },
    {
      "cell_type": "code",
      "metadata": {
        "colab": {
          "base_uri": "https://localhost:8080/"
        },
        "id": "b7ZG3sFa7I7v",
        "outputId": "8160c56c-180e-4f4b-b14d-18cfac32c86c"
      },
      "source": [
        "y_test.value_counts()"
      ],
      "execution_count": 540,
      "outputs": [
        {
          "output_type": "execute_result",
          "data": {
            "text/plain": [
              "3.0    76\n",
              "2.0    43\n",
              "1.0    28\n",
              "4.0    11\n",
              "Name: Intention, dtype: int64"
            ]
          },
          "metadata": {},
          "execution_count": 540
        }
      ]
    },
    {
      "cell_type": "code",
      "metadata": {
        "colab": {
          "base_uri": "https://localhost:8080/"
        },
        "id": "evmrSkfCnk0H",
        "outputId": "325765c5-1cb4-43ce-de60-e4c782ea47a1"
      },
      "source": [
        "X_train"
      ],
      "execution_count": 541,
      "outputs": [
        {
          "output_type": "execute_result",
          "data": {
            "text/plain": [
              "67     after watching mavs falter in exciting playoff...\n",
              "37     innovation new when touch sport always raise c...\n",
              "490    earn bitcoin back nike big clearance sale rn f...\n",
              "328    tirednobdy ooh ok here p good try find one col...\n",
              "356    mentalhealth matter see amazing many others fo...\n",
              "                             ...                        \n",
              "519    do brand new nike air max olive green outlet sale\n",
              "177                                 via nikea snkrs arey\n",
              "164    surfing wave ft nike air usd rental usd purcha...\n",
              "97     amazing hoursa first w nike snkrs app picked m...\n",
              "262    nike shoebox bag orange sale free shipping lin...\n",
              "Name: Post, Length: 368, dtype: object"
            ]
          },
          "metadata": {},
          "execution_count": 541
        }
      ]
    },
    {
      "cell_type": "markdown",
      "metadata": {
        "id": "tO-TgDEe4IsB"
      },
      "source": [
        "### Modeling"
      ]
    },
    {
      "cell_type": "markdown",
      "metadata": {
        "id": "-q7MXNG-4Z_E"
      },
      "source": [
        "We'll go with a multiclass neural net, with an output layer of 4 neurons (for 4 classes of intentions)."
      ]
    },
    {
      "cell_type": "code",
      "metadata": {
        "id": "IptHz7ZaeRcp"
      },
      "source": [
        "import tensorflow as tf\n",
        "import tensorflow_hub as hub\n",
        "from tensorflow import keras"
      ],
      "execution_count": 542,
      "outputs": []
    },
    {
      "cell_type": "code",
      "metadata": {
        "id": "frXMlneMhWjJ"
      },
      "source": [
        "# An instance of a sequential neural; an empty model\n",
        "model = tf.keras.Sequential()"
      ],
      "execution_count": 644,
      "outputs": []
    },
    {
      "cell_type": "markdown",
      "metadata": {
        "id": "cm6sj96XiUCu"
      },
      "source": [
        "We need to use an embedder to transform the data into a vector space that the neural net can handle."
      ]
    },
    {
      "cell_type": "code",
      "metadata": {
        "id": "nD9RpjHFhj46"
      },
      "source": [
        "embedding = \"https://tfhub.dev/google/tf2-preview/gnews-swivel-20dim/1\"\n",
        "# embedding = \"https://tfhub.dev/google/nnlm-en-dim128/2\"\n",
        "# embedding = \"https://tfhub.dev/google/nnlm-en-dim50-with-normalization/2\"\n",
        "hub_layer = hub.KerasLayer(embedding, input_shape = [], dtype = tf.string, trainable = True)"
      ],
      "execution_count": 544,
      "outputs": []
    },
    {
      "cell_type": "markdown",
      "metadata": {
        "id": "vTZ7lBCMjTGA"
      },
      "source": [
        "Note that the nature of this model means that we'll use softmax as the activation function of our output layer."
      ]
    },
    {
      "cell_type": "code",
      "metadata": {
        "id": "6TFMZiIl2T6r"
      },
      "source": [
        "model.add(hub_layer)\n",
        "# model.add(tf.keras.layers.Dense(8, activation = 'relu'))\n",
        "# model.add(tf.keras.layers.Dense(64, activation = 'relu'))\n",
        "model.add(tf.keras.layers.Dense(32, activation = 'relu'))\n",
        "model.add(tf.keras.layers.Dropout(.7))\n",
        "# model.add(tf.keras.layers.Dropout(.5))\n",
        "model.add(tf.keras.layers.Dense(32, input_dim = 4, activation = 'relu'))\n",
        "model.add(tf.keras.layers.Dense(4, activation = 'softmax'))"
      ],
      "execution_count": 645,
      "outputs": []
    },
    {
      "cell_type": "code",
      "metadata": {
        "id": "7KaHpUSc7U7Y"
      },
      "source": [
        "import keras.utils"
      ],
      "execution_count": 646,
      "outputs": []
    },
    {
      "cell_type": "code",
      "metadata": {
        "id": "bEmrm7G46qWv"
      },
      "source": [
        "y_train_hot = tf.keras.utils.to_categorical(y_train, 5)"
      ],
      "execution_count": 647,
      "outputs": []
    },
    {
      "cell_type": "code",
      "metadata": {
        "id": "Y9T3pikOB4ZF"
      },
      "source": [
        "y_train_hot = pd.DataFrame(y_train_hot).drop(0, axis=1).to_numpy()"
      ],
      "execution_count": 648,
      "outputs": []
    },
    {
      "cell_type": "code",
      "metadata": {
        "id": "3Ng3KbT_jYnp"
      },
      "source": [
        "model.compile(optimizer= 'adam', loss = tf.keras.losses.CategoricalCrossentropy(from_logits=True), metrics = ['accuracy'])"
      ],
      "execution_count": 649,
      "outputs": []
    },
    {
      "cell_type": "code",
      "metadata": {
        "colab": {
          "base_uri": "https://localhost:8080/"
        },
        "id": "skRSTHyDmltY",
        "outputId": "e13b39dc-930e-4260-e229-6599a9a06de9"
      },
      "source": [
        "model.summary()"
      ],
      "execution_count": 650,
      "outputs": [
        {
          "output_type": "stream",
          "name": "stdout",
          "text": [
            "Model: \"sequential_64\"\n",
            "_________________________________________________________________\n",
            "Layer (type)                 Output Shape              Param #   \n",
            "=================================================================\n",
            "keras_layer_6 (KerasLayer)   (None, 20)                400020    \n",
            "_________________________________________________________________\n",
            "dense_185 (Dense)            (None, 32)                672       \n",
            "_________________________________________________________________\n",
            "dropout_55 (Dropout)         (None, 32)                0         \n",
            "_________________________________________________________________\n",
            "dense_186 (Dense)            (None, 32)                1056      \n",
            "_________________________________________________________________\n",
            "dense_187 (Dense)            (None, 4)                 132       \n",
            "=================================================================\n",
            "Total params: 401,880\n",
            "Trainable params: 401,880\n",
            "Non-trainable params: 0\n",
            "_________________________________________________________________\n"
          ]
        }
      ]
    },
    {
      "cell_type": "code",
      "metadata": {
        "id": "06rxXrcCjtyx",
        "colab": {
          "base_uri": "https://localhost:8080/"
        },
        "outputId": "6cae3fd7-5f47-4d27-96d3-d99a1c7d4d8e"
      },
      "source": [
        "history = model.fit(X_train, y_train_hot, epochs = 50, validation_split=0.3, verbose=1)"
      ],
      "execution_count": 651,
      "outputs": [
        {
          "output_type": "stream",
          "name": "stdout",
          "text": [
            "Epoch 1/50\n"
          ]
        },
        {
          "output_type": "stream",
          "name": "stderr",
          "text": [
            "/usr/local/lib/python3.7/dist-packages/keras/backend.py:4847: UserWarning: \"`categorical_crossentropy` received `from_logits=True`, but the `output` argument was produced by a sigmoid or softmax activation and thus does not represent logits. Was this intended?\"\n",
            "  '\"`categorical_crossentropy` received `from_logits=True`, but '\n"
          ]
        },
        {
          "output_type": "stream",
          "name": "stdout",
          "text": [
            "9/9 [==============================] - 1s 36ms/step - loss: 1.7371 - accuracy: 0.1790 - val_loss: 1.3854 - val_accuracy: 0.2613\n",
            "Epoch 2/50\n",
            "9/9 [==============================] - 0s 12ms/step - loss: 1.5004 - accuracy: 0.2685 - val_loss: 1.2660 - val_accuracy: 0.4775\n",
            "Epoch 3/50\n",
            "9/9 [==============================] - 0s 12ms/step - loss: 1.3494 - accuracy: 0.3813 - val_loss: 1.1874 - val_accuracy: 0.5135\n",
            "Epoch 4/50\n",
            "9/9 [==============================] - 0s 11ms/step - loss: 1.1303 - accuracy: 0.5486 - val_loss: 1.1408 - val_accuracy: 0.5315\n",
            "Epoch 5/50\n",
            "9/9 [==============================] - 0s 10ms/step - loss: 1.0847 - accuracy: 0.5097 - val_loss: 1.1084 - val_accuracy: 0.5405\n",
            "Epoch 6/50\n",
            "9/9 [==============================] - 0s 10ms/step - loss: 1.0343 - accuracy: 0.5564 - val_loss: 1.0787 - val_accuracy: 0.5766\n",
            "Epoch 7/50\n",
            "9/9 [==============================] - 0s 11ms/step - loss: 0.9168 - accuracy: 0.6187 - val_loss: 1.0516 - val_accuracy: 0.5946\n",
            "Epoch 8/50\n",
            "9/9 [==============================] - 0s 11ms/step - loss: 0.8717 - accuracy: 0.7043 - val_loss: 1.0282 - val_accuracy: 0.6216\n",
            "Epoch 9/50\n",
            "9/9 [==============================] - 0s 11ms/step - loss: 0.8285 - accuracy: 0.6732 - val_loss: 1.0082 - val_accuracy: 0.6396\n",
            "Epoch 10/50\n",
            "9/9 [==============================] - 0s 10ms/step - loss: 0.7354 - accuracy: 0.7121 - val_loss: 0.9939 - val_accuracy: 0.6667\n",
            "Epoch 11/50\n",
            "9/9 [==============================] - 0s 9ms/step - loss: 0.7279 - accuracy: 0.7626 - val_loss: 0.9849 - val_accuracy: 0.6847\n",
            "Epoch 12/50\n",
            "9/9 [==============================] - 0s 9ms/step - loss: 0.6406 - accuracy: 0.7471 - val_loss: 0.9794 - val_accuracy: 0.7027\n",
            "Epoch 13/50\n",
            "9/9 [==============================] - 0s 11ms/step - loss: 0.6337 - accuracy: 0.7977 - val_loss: 0.9764 - val_accuracy: 0.7027\n",
            "Epoch 14/50\n",
            "9/9 [==============================] - 0s 12ms/step - loss: 0.5870 - accuracy: 0.8054 - val_loss: 0.9731 - val_accuracy: 0.6847\n",
            "Epoch 15/50\n",
            "9/9 [==============================] - 0s 10ms/step - loss: 0.5420 - accuracy: 0.8054 - val_loss: 0.9695 - val_accuracy: 0.6847\n",
            "Epoch 16/50\n",
            "9/9 [==============================] - 0s 11ms/step - loss: 0.5602 - accuracy: 0.7860 - val_loss: 0.9776 - val_accuracy: 0.6757\n",
            "Epoch 17/50\n",
            "9/9 [==============================] - 0s 10ms/step - loss: 0.5940 - accuracy: 0.8016 - val_loss: 0.9868 - val_accuracy: 0.6757\n",
            "Epoch 18/50\n",
            "9/9 [==============================] - 0s 11ms/step - loss: 0.4489 - accuracy: 0.8405 - val_loss: 1.0007 - val_accuracy: 0.6757\n",
            "Epoch 19/50\n",
            "9/9 [==============================] - 0s 12ms/step - loss: 0.4612 - accuracy: 0.8210 - val_loss: 1.0169 - val_accuracy: 0.6667\n",
            "Epoch 20/50\n",
            "9/9 [==============================] - 0s 12ms/step - loss: 0.4649 - accuracy: 0.8016 - val_loss: 1.0394 - val_accuracy: 0.6757\n",
            "Epoch 21/50\n",
            "9/9 [==============================] - 0s 10ms/step - loss: 0.4213 - accuracy: 0.8482 - val_loss: 1.0605 - val_accuracy: 0.6757\n",
            "Epoch 22/50\n",
            "9/9 [==============================] - 0s 11ms/step - loss: 0.4140 - accuracy: 0.8405 - val_loss: 1.0866 - val_accuracy: 0.6757\n",
            "Epoch 23/50\n",
            "9/9 [==============================] - 0s 11ms/step - loss: 0.4046 - accuracy: 0.8521 - val_loss: 1.1035 - val_accuracy: 0.6667\n",
            "Epoch 24/50\n",
            "9/9 [==============================] - 0s 13ms/step - loss: 0.3416 - accuracy: 0.8638 - val_loss: 1.1231 - val_accuracy: 0.6667\n",
            "Epoch 25/50\n",
            "9/9 [==============================] - 0s 11ms/step - loss: 0.3402 - accuracy: 0.8677 - val_loss: 1.1371 - val_accuracy: 0.6667\n",
            "Epoch 26/50\n",
            "9/9 [==============================] - 0s 10ms/step - loss: 0.3972 - accuracy: 0.8521 - val_loss: 1.1498 - val_accuracy: 0.6667\n",
            "Epoch 27/50\n",
            "9/9 [==============================] - 0s 11ms/step - loss: 0.3682 - accuracy: 0.8521 - val_loss: 1.1545 - val_accuracy: 0.6757\n",
            "Epoch 28/50\n",
            "9/9 [==============================] - 0s 10ms/step - loss: 0.3379 - accuracy: 0.8599 - val_loss: 1.1625 - val_accuracy: 0.6757\n",
            "Epoch 29/50\n",
            "9/9 [==============================] - 0s 11ms/step - loss: 0.3234 - accuracy: 0.8716 - val_loss: 1.1818 - val_accuracy: 0.6757\n",
            "Epoch 30/50\n",
            "9/9 [==============================] - 0s 12ms/step - loss: 0.3260 - accuracy: 0.8716 - val_loss: 1.1995 - val_accuracy: 0.6757\n",
            "Epoch 31/50\n",
            "9/9 [==============================] - 0s 11ms/step - loss: 0.2806 - accuracy: 0.8833 - val_loss: 1.2176 - val_accuracy: 0.6757\n",
            "Epoch 32/50\n",
            "9/9 [==============================] - 0s 10ms/step - loss: 0.2832 - accuracy: 0.8560 - val_loss: 1.2332 - val_accuracy: 0.6757\n",
            "Epoch 33/50\n",
            "9/9 [==============================] - 0s 11ms/step - loss: 0.3126 - accuracy: 0.8638 - val_loss: 1.2517 - val_accuracy: 0.6667\n",
            "Epoch 34/50\n",
            "9/9 [==============================] - 0s 11ms/step - loss: 0.2683 - accuracy: 0.8872 - val_loss: 1.2707 - val_accuracy: 0.6667\n",
            "Epoch 35/50\n",
            "9/9 [==============================] - 0s 9ms/step - loss: 0.2835 - accuracy: 0.8677 - val_loss: 1.2868 - val_accuracy: 0.6667\n",
            "Epoch 36/50\n",
            "9/9 [==============================] - 0s 11ms/step - loss: 0.2576 - accuracy: 0.8872 - val_loss: 1.2974 - val_accuracy: 0.6577\n",
            "Epoch 37/50\n",
            "9/9 [==============================] - 0s 11ms/step - loss: 0.2704 - accuracy: 0.8872 - val_loss: 1.3122 - val_accuracy: 0.6486\n",
            "Epoch 38/50\n",
            "9/9 [==============================] - 0s 10ms/step - loss: 0.2231 - accuracy: 0.9066 - val_loss: 1.3369 - val_accuracy: 0.6667\n",
            "Epoch 39/50\n",
            "9/9 [==============================] - 0s 10ms/step - loss: 0.2186 - accuracy: 0.8949 - val_loss: 1.3613 - val_accuracy: 0.6667\n",
            "Epoch 40/50\n",
            "9/9 [==============================] - 0s 11ms/step - loss: 0.2486 - accuracy: 0.8988 - val_loss: 1.3833 - val_accuracy: 0.6667\n",
            "Epoch 41/50\n",
            "9/9 [==============================] - 0s 11ms/step - loss: 0.2395 - accuracy: 0.8872 - val_loss: 1.4101 - val_accuracy: 0.6757\n",
            "Epoch 42/50\n",
            "9/9 [==============================] - 0s 11ms/step - loss: 0.2636 - accuracy: 0.9027 - val_loss: 1.4289 - val_accuracy: 0.6757\n",
            "Epoch 43/50\n",
            "9/9 [==============================] - 0s 11ms/step - loss: 0.2178 - accuracy: 0.8949 - val_loss: 1.4503 - val_accuracy: 0.6847\n",
            "Epoch 44/50\n",
            "9/9 [==============================] - 0s 10ms/step - loss: 0.2186 - accuracy: 0.9105 - val_loss: 1.4681 - val_accuracy: 0.6847\n",
            "Epoch 45/50\n",
            "9/9 [==============================] - 0s 10ms/step - loss: 0.2300 - accuracy: 0.9105 - val_loss: 1.4881 - val_accuracy: 0.6847\n",
            "Epoch 46/50\n",
            "9/9 [==============================] - 0s 10ms/step - loss: 0.1780 - accuracy: 0.9183 - val_loss: 1.5199 - val_accuracy: 0.6847\n",
            "Epoch 47/50\n",
            "9/9 [==============================] - 0s 12ms/step - loss: 0.2190 - accuracy: 0.9066 - val_loss: 1.5367 - val_accuracy: 0.6757\n",
            "Epoch 48/50\n",
            "9/9 [==============================] - 0s 11ms/step - loss: 0.2320 - accuracy: 0.8872 - val_loss: 1.5656 - val_accuracy: 0.6667\n",
            "Epoch 49/50\n",
            "9/9 [==============================] - 0s 10ms/step - loss: 0.2120 - accuracy: 0.9105 - val_loss: 1.5912 - val_accuracy: 0.6757\n",
            "Epoch 50/50\n",
            "9/9 [==============================] - 0s 12ms/step - loss: 0.2124 - accuracy: 0.9066 - val_loss: 1.6111 - val_accuracy: 0.6757\n"
          ]
        }
      ]
    },
    {
      "cell_type": "markdown",
      "metadata": {
        "id": "R3fxMIrfxsOH"
      },
      "source": [
        "### Selecting Epochs"
      ]
    },
    {
      "cell_type": "code",
      "metadata": {
        "id": "FYs_yiPhxpNa"
      },
      "source": [
        "training_loss = [1.7371, 1.5004, 1.3494, 1.1303, 1.0847, 1.0343, 0.9168, 0.8717, 0.8285, 0.7354,\n",
        "                 0.7279, 0.6406, 0.6337, 0.5870, 0.5420, 0.5602, 0.5940, 0.4489, 0.4612, 0.4649,\n",
        "                 0.4213, 0.4140, 0.4046, 0.3416, 0.3402, 0.3972, 0.3682, 0.3379, 0.3234, 0.3260,\n",
        "                 0.2806, 0.2832, 0.3126, 0.2683, 0.2835, 0.2576, 0.2704, 0.2231, 0.2186, 0.2486]"
      ],
      "execution_count": 656,
      "outputs": []
    },
    {
      "cell_type": "code",
      "metadata": {
        "id": "c7_-F8cKyeeJ"
      },
      "source": [
        "testing_loss = [1.3854, 1.2660, 1.1874, 1.1408, 1.1084, 1.0787, 1.0516, 1.0282, 1.0082, 0.9939,\n",
        "                0.9849, 0.9794, 0.9764, 0.9731, 0.9695, 0.9776, 0.9868, 1.0007, 1.0169, 1.0394,\n",
        "                1.0605, 1.0866, 1.1035, 1.1231, 1.1371, 1.1498, 1.1545, 1.1625, 1.1818, 1.1995,\n",
        "                1.2176, 1.2332, 1.2517, 1.2707, 1.2868, 1.2974, 1.3122, 1.3369, 1.3613, 1.3833]"
      ],
      "execution_count": 657,
      "outputs": []
    },
    {
      "cell_type": "code",
      "metadata": {
        "colab": {
          "base_uri": "https://localhost:8080/",
          "height": 570
        },
        "id": "79zRMPVwzIvB",
        "outputId": "e266e1b0-b078-49c4-d9c9-42150b40ff27"
      },
      "source": [
        "plt.figure(figsize=(10,8))\n",
        "plt.plot(range(len(training_loss)), training_loss, 'b', label='Training loss') #plotting training loss\n",
        "plt.plot(range(len(testing_loss)), testing_loss, 'r', label='Validation loss') # plotting validation loss\n",
        "plt.title('Training and Validation Loss')\n",
        "plt.xlabel('Epochs ',fontsize=30)\n",
        "plt.ylabel('Loss',fontsize=30)\n",
        "plt.legend()\n",
        "plt.figure()\n",
        "plt.show()"
      ],
      "execution_count": 660,
      "outputs": [
        {
          "output_type": "display_data",
          "data": {
            "image/png": "[encoded data removed]",
            "text/plain": [
              "<Figure size 720x576 with 1 Axes>"
            ]
          },
          "metadata": {}
        },
        {
          "output_type": "display_data",
          "data": {
            "text/plain": [
              "<Figure size 432x288 with 0 Axes>"
            ]
          },
          "metadata": {}
        }
      ]
    },
    {
      "cell_type": "markdown",
      "metadata": {
        "id": "Kxmm2N1-zpNj"
      },
      "source": [
        "### Cut Off Model At 13 Epochs"
      ]
    },
    {
      "cell_type": "code",
      "metadata": {
        "id": "1RXKcizdz9qm"
      },
      "source": [
        "# An instance of a sequential neural; an empty model\n",
        "model = tf.keras.Sequential()"
      ],
      "execution_count": 671,
      "outputs": []
    },
    {
      "cell_type": "code",
      "metadata": {
        "id": "eOmUWMiEz9he"
      },
      "source": [
        "model.add(hub_layer)\n",
        "model.add(tf.keras.layers.Dense(32, activation = 'relu'))\n",
        "model.add(tf.keras.layers.Dropout(.7))\n",
        "model.add(tf.keras.layers.Dense(32, input_dim = 4, activation = 'relu'))\n",
        "model.add(tf.keras.layers.Dense(4, activation = 'softmax'))"
      ],
      "execution_count": 672,
      "outputs": []
    },
    {
      "cell_type": "code",
      "metadata": {
        "id": "EFJc_1TYz9V3"
      },
      "source": [
        "model.compile(optimizer= 'adam', loss = tf.keras.losses.CategoricalCrossentropy(from_logits=True), metrics = ['accuracy'])"
      ],
      "execution_count": 673,
      "outputs": []
    },
    {
      "cell_type": "code",
      "metadata": {
        "colab": {
          "base_uri": "https://localhost:8080/"
        },
        "id": "SpagsZURz8Ro",
        "outputId": "9ea5826c-9982-4ab1-b2c1-0616096658f2"
      },
      "source": [
        "model.summary()"
      ],
      "execution_count": 674,
      "outputs": [
        {
          "output_type": "stream",
          "name": "stdout",
          "text": [
            "Model: \"sequential_67\"\n",
            "_________________________________________________________________\n",
            "Layer (type)                 Output Shape              Param #   \n",
            "=================================================================\n",
            "keras_layer_6 (KerasLayer)   (None, 20)                400020    \n",
            "_________________________________________________________________\n",
            "dense_194 (Dense)            (None, 32)                672       \n",
            "_________________________________________________________________\n",
            "dropout_58 (Dropout)         (None, 32)                0         \n",
            "_________________________________________________________________\n",
            "dense_195 (Dense)            (None, 32)                1056      \n",
            "_________________________________________________________________\n",
            "dense_196 (Dense)            (None, 4)                 132       \n",
            "=================================================================\n",
            "Total params: 401,880\n",
            "Trainable params: 401,880\n",
            "Non-trainable params: 0\n",
            "_________________________________________________________________\n"
          ]
        }
      ]
    },
    {
      "cell_type": "code",
      "metadata": {
        "colab": {
          "base_uri": "https://localhost:8080/"
        },
        "id": "qPtfupaZznmJ",
        "outputId": "4e39dc00-ff5b-49ac-8772-865795a043f6"
      },
      "source": [
        "history = model.fit(X_train, y_train_hot, epochs = 13, validation_split=0.3, verbose=1)"
      ],
      "execution_count": 675,
      "outputs": [
        {
          "output_type": "stream",
          "name": "stdout",
          "text": [
            "Epoch 1/13\n"
          ]
        },
        {
          "output_type": "stream",
          "name": "stderr",
          "text": [
            "/usr/local/lib/python3.7/dist-packages/keras/backend.py:4847: UserWarning: \"`categorical_crossentropy` received `from_logits=True`, but the `output` argument was produced by a sigmoid or softmax activation and thus does not represent logits. Was this intended?\"\n",
            "  '\"`categorical_crossentropy` received `from_logits=True`, but '\n"
          ]
        },
        {
          "output_type": "stream",
          "name": "stdout",
          "text": [
            "9/9 [==============================] - 1s 37ms/step - loss: 1.6135 - accuracy: 0.3035 - val_loss: 1.2571 - val_accuracy: 0.4865\n",
            "Epoch 2/13\n",
            "9/9 [==============================] - 0s 13ms/step - loss: 1.3407 - accuracy: 0.4047 - val_loss: 1.1518 - val_accuracy: 0.5586\n",
            "Epoch 3/13\n",
            "9/9 [==============================] - 0s 11ms/step - loss: 1.1558 - accuracy: 0.5175 - val_loss: 1.1071 - val_accuracy: 0.5766\n",
            "Epoch 4/13\n",
            "9/9 [==============================] - 0s 12ms/step - loss: 1.0446 - accuracy: 0.5759 - val_loss: 1.0796 - val_accuracy: 0.5766\n",
            "Epoch 5/13\n",
            "9/9 [==============================] - 0s 10ms/step - loss: 0.9208 - accuracy: 0.5837 - val_loss: 1.0573 - val_accuracy: 0.5766\n",
            "Epoch 6/13\n",
            "9/9 [==============================] - 0s 12ms/step - loss: 0.9274 - accuracy: 0.6537 - val_loss: 1.0275 - val_accuracy: 0.6126\n",
            "Epoch 7/13\n",
            "9/9 [==============================] - 0s 10ms/step - loss: 0.8018 - accuracy: 0.6693 - val_loss: 1.0048 - val_accuracy: 0.6577\n",
            "Epoch 8/13\n",
            "9/9 [==============================] - 0s 12ms/step - loss: 0.7103 - accuracy: 0.7237 - val_loss: 0.9927 - val_accuracy: 0.6757\n",
            "Epoch 9/13\n",
            "9/9 [==============================] - 0s 10ms/step - loss: 0.7299 - accuracy: 0.7432 - val_loss: 0.9921 - val_accuracy: 0.6757\n",
            "Epoch 10/13\n",
            "9/9 [==============================] - 0s 11ms/step - loss: 0.6535 - accuracy: 0.7549 - val_loss: 0.9924 - val_accuracy: 0.6667\n",
            "Epoch 11/13\n",
            "9/9 [==============================] - 0s 11ms/step - loss: 0.6209 - accuracy: 0.7510 - val_loss: 0.9889 - val_accuracy: 0.6847\n",
            "Epoch 12/13\n",
            "9/9 [==============================] - 0s 13ms/step - loss: 0.5854 - accuracy: 0.7821 - val_loss: 0.9847 - val_accuracy: 0.7027\n",
            "Epoch 13/13\n",
            "9/9 [==============================] - 0s 12ms/step - loss: 0.5418 - accuracy: 0.7860 - val_loss: 0.9841 - val_accuracy: 0.6847\n"
          ]
        }
      ]
    },
    {
      "cell_type": "markdown",
      "metadata": {
        "id": "w211fMfTeSBZ"
      },
      "source": [
        "### Validation Set"
      ]
    },
    {
      "cell_type": "code",
      "metadata": {
        "colab": {
          "base_uri": "https://localhost:8080/"
        },
        "id": "5--1COelVJJU",
        "outputId": "d7361b01-d676-4461-e916-8d9d811cb970"
      },
      "source": [
        "y_preds = model.predict(X_test)\n",
        "np.round(y_preds, 2)"
      ],
      "execution_count": 676,
      "outputs": [
        {
          "output_type": "execute_result",
          "data": {
            "text/plain": [
              "array([[0.02, 0.05, 0.92, 0.02],\n",
              "       [0.05, 0.08, 0.82, 0.04],\n",
              "       [0.  , 0.01, 0.98, 0.01],\n",
              "       [0.03, 0.04, 0.91, 0.02],\n",
              "       [0.14, 0.27, 0.44, 0.16],\n",
              "       [0.22, 0.24, 0.37, 0.17],\n",
              "       [0.  , 0.01, 0.98, 0.  ],\n",
              "       [0.47, 0.33, 0.16, 0.05],\n",
              "       [0.07, 0.12, 0.74, 0.06],\n",
              "       [0.42, 0.21, 0.35, 0.02],\n",
              "       [0.17, 0.33, 0.3 , 0.2 ],\n",
              "       [0.  , 0.01, 0.99, 0.  ],\n",
              "       [0.22, 0.35, 0.26, 0.18],\n",
              "       [0.07, 0.1 , 0.79, 0.04],\n",
              "       [0.  , 0.  , 1.  , 0.  ],\n",
              "       [0.  , 0.01, 0.99, 0.  ],\n",
              "       [0.13, 0.26, 0.53, 0.07],\n",
              "       [0.02, 0.04, 0.93, 0.01],\n",
              "       [0.07, 0.11, 0.8 , 0.03],\n",
              "       [0.  , 0.  , 0.99, 0.  ],\n",
              "       [0.31, 0.14, 0.41, 0.14],\n",
              "       [0.54, 0.31, 0.09, 0.06],\n",
              "       [0.24, 0.48, 0.25, 0.03],\n",
              "       [0.3 , 0.26, 0.33, 0.1 ],\n",
              "       [0.  , 0.01, 0.99, 0.  ],\n",
              "       [0.14, 0.28, 0.44, 0.14],\n",
              "       [0.02, 0.06, 0.9 , 0.03],\n",
              "       [0.13, 0.17, 0.63, 0.07],\n",
              "       [0.02, 0.04, 0.92, 0.02],\n",
              "       [0.1 , 0.14, 0.66, 0.1 ],\n",
              "       [0.  , 0.01, 0.99, 0.  ],\n",
              "       [0.01, 0.02, 0.96, 0.01],\n",
              "       [0.03, 0.05, 0.89, 0.03],\n",
              "       [0.31, 0.41, 0.16, 0.13],\n",
              "       [0.03, 0.06, 0.88, 0.03],\n",
              "       [0.24, 0.1 , 0.6 , 0.05],\n",
              "       [0.01, 0.04, 0.94, 0.01],\n",
              "       [0.03, 0.06, 0.89, 0.02],\n",
              "       [0.24, 0.35, 0.25, 0.16],\n",
              "       [0.05, 0.07, 0.83, 0.06],\n",
              "       [0.  , 0.01, 0.99, 0.  ],\n",
              "       [0.  , 0.01, 0.99, 0.  ],\n",
              "       [0.2 , 0.39, 0.23, 0.18],\n",
              "       [0.15, 0.14, 0.66, 0.05],\n",
              "       [0.21, 0.08, 0.7 , 0.02],\n",
              "       [0.32, 0.28, 0.29, 0.11],\n",
              "       [0.01, 0.02, 0.95, 0.01],\n",
              "       [0.47, 0.3 , 0.08, 0.15],\n",
              "       [0.33, 0.47, 0.07, 0.13],\n",
              "       [0.04, 0.04, 0.91, 0.01],\n",
              "       [0.2 , 0.42, 0.29, 0.1 ],\n",
              "       [0.04, 0.07, 0.81, 0.08],\n",
              "       [0.07, 0.11, 0.75, 0.07],\n",
              "       [0.26, 0.25, 0.46, 0.03],\n",
              "       [0.12, 0.41, 0.42, 0.05],\n",
              "       [0.39, 0.23, 0.31, 0.07],\n",
              "       [0.18, 0.34, 0.35, 0.14],\n",
              "       [0.22, 0.54, 0.14, 0.1 ],\n",
              "       [0.02, 0.04, 0.92, 0.03],\n",
              "       [0.04, 0.11, 0.84, 0.01],\n",
              "       [0.  , 0.02, 0.97, 0.  ],\n",
              "       [0.22, 0.27, 0.4 , 0.11],\n",
              "       [0.3 , 0.41, 0.22, 0.07],\n",
              "       [0.07, 0.13, 0.74, 0.05],\n",
              "       [0.01, 0.03, 0.94, 0.01],\n",
              "       [0.27, 0.41, 0.27, 0.05],\n",
              "       [0.04, 0.07, 0.86, 0.03],\n",
              "       [0.13, 0.21, 0.57, 0.09],\n",
              "       [0.  , 0.  , 0.99, 0.  ],\n",
              "       [0.19, 0.44, 0.22, 0.16],\n",
              "       [0.05, 0.13, 0.78, 0.05],\n",
              "       [0.19, 0.34, 0.32, 0.15],\n",
              "       [0.05, 0.13, 0.78, 0.04],\n",
              "       [0.07, 0.11, 0.78, 0.04],\n",
              "       [0.13, 0.28, 0.45, 0.14],\n",
              "       [0.07, 0.11, 0.79, 0.03],\n",
              "       [0.01, 0.02, 0.96, 0.01],\n",
              "       [0.15, 0.1 , 0.69, 0.07],\n",
              "       [0.1 , 0.12, 0.74, 0.04],\n",
              "       [0.1 , 0.15, 0.73, 0.03],\n",
              "       [0.01, 0.02, 0.96, 0.01],\n",
              "       [0.01, 0.04, 0.93, 0.02],\n",
              "       [0.02, 0.05, 0.9 , 0.02],\n",
              "       [0.01, 0.  , 0.99, 0.  ],\n",
              "       [0.06, 0.1 , 0.8 , 0.04],\n",
              "       [0.31, 0.26, 0.38, 0.05],\n",
              "       [0.01, 0.03, 0.95, 0.01],\n",
              "       [0.29, 0.5 , 0.14, 0.07],\n",
              "       [0.29, 0.39, 0.27, 0.06],\n",
              "       [0.59, 0.16, 0.21, 0.05],\n",
              "       [0.05, 0.17, 0.75, 0.02],\n",
              "       [0.42, 0.18, 0.27, 0.12],\n",
              "       [0.02, 0.05, 0.92, 0.01],\n",
              "       [0.35, 0.33, 0.27, 0.06],\n",
              "       [0.02, 0.04, 0.91, 0.03],\n",
              "       [0.12, 0.22, 0.6 , 0.07],\n",
              "       [0.11, 0.12, 0.64, 0.12],\n",
              "       [0.01, 0.02, 0.96, 0.01],\n",
              "       [0.  , 0.01, 0.99, 0.  ],\n",
              "       [0.06, 0.13, 0.73, 0.08],\n",
              "       [0.  , 0.  , 0.99, 0.  ],\n",
              "       [0.29, 0.47, 0.13, 0.1 ],\n",
              "       [0.01, 0.02, 0.97, 0.01],\n",
              "       [0.32, 0.48, 0.11, 0.08],\n",
              "       [0.02, 0.04, 0.93, 0.02],\n",
              "       [0.12, 0.32, 0.51, 0.04],\n",
              "       [0.37, 0.41, 0.17, 0.04],\n",
              "       [0.11, 0.21, 0.63, 0.05],\n",
              "       [0.21, 0.64, 0.13, 0.02],\n",
              "       [0.  , 0.  , 0.99, 0.  ],\n",
              "       [0.25, 0.47, 0.14, 0.15],\n",
              "       [0.  , 0.01, 0.99, 0.  ],\n",
              "       [0.2 , 0.32, 0.29, 0.19],\n",
              "       [0.01, 0.03, 0.96, 0.01],\n",
              "       [0.  , 0.01, 0.98, 0.  ],\n",
              "       [0.22, 0.27, 0.42, 0.09],\n",
              "       [0.1 , 0.15, 0.71, 0.05],\n",
              "       [0.47, 0.17, 0.33, 0.03],\n",
              "       [0.31, 0.5 , 0.11, 0.08],\n",
              "       [0.36, 0.29, 0.27, 0.08],\n",
              "       [0.07, 0.13, 0.73, 0.07],\n",
              "       [0.  , 0.01, 0.99, 0.  ],\n",
              "       [0.29, 0.51, 0.14, 0.06],\n",
              "       [0.3 , 0.38, 0.23, 0.1 ],\n",
              "       [0.07, 0.11, 0.73, 0.09],\n",
              "       [0.17, 0.27, 0.5 , 0.06],\n",
              "       [0.18, 0.32, 0.36, 0.14],\n",
              "       [0.06, 0.15, 0.74, 0.05],\n",
              "       [0.  , 0.01, 0.99, 0.  ],\n",
              "       [0.25, 0.28, 0.31, 0.16],\n",
              "       [0.11, 0.23, 0.59, 0.07],\n",
              "       [0.33, 0.23, 0.28, 0.16],\n",
              "       [0.39, 0.31, 0.23, 0.07],\n",
              "       [0.24, 0.31, 0.26, 0.18],\n",
              "       [0.03, 0.02, 0.93, 0.02],\n",
              "       [0.  , 0.01, 0.99, 0.  ],\n",
              "       [0.11, 0.14, 0.7 , 0.05],\n",
              "       [0.26, 0.28, 0.34, 0.12],\n",
              "       [0.01, 0.03, 0.95, 0.01],\n",
              "       [0.06, 0.04, 0.9 , 0.01],\n",
              "       [0.08, 0.16, 0.69, 0.06],\n",
              "       [0.5 , 0.31, 0.08, 0.11],\n",
              "       [0.21, 0.12, 0.59, 0.07],\n",
              "       [0.06, 0.1 , 0.82, 0.03],\n",
              "       [0.45, 0.22, 0.25, 0.08],\n",
              "       [0.  , 0.01, 0.99, 0.  ],\n",
              "       [0.15, 0.13, 0.64, 0.08],\n",
              "       [0.16, 0.47, 0.2 , 0.16],\n",
              "       [0.11, 0.19, 0.68, 0.02],\n",
              "       [0.  , 0.  , 1.  , 0.  ],\n",
              "       [0.01, 0.03, 0.94, 0.01],\n",
              "       [0.02, 0.05, 0.92, 0.02],\n",
              "       [0.  , 0.  , 1.  , 0.  ],\n",
              "       [0.17, 0.19, 0.58, 0.05],\n",
              "       [0.14, 0.42, 0.36, 0.09],\n",
              "       [0.  , 0.01, 0.99, 0.  ],\n",
              "       [0.01, 0.03, 0.95, 0.01],\n",
              "       [0.21, 0.49, 0.12, 0.18]], dtype=float32)"
            ]
          },
          "metadata": {},
          "execution_count": 676
        }
      ]
    },
    {
      "cell_type": "code",
      "metadata": {
        "id": "3dmuPk66Vj7b"
      },
      "source": [
        "y_pred = []\n",
        "for row in y_preds:\n",
        "  for node, score in enumerate(row):\n",
        "    if score == max(row):\n",
        "      y_pred.append(node+1)"
      ],
      "execution_count": 677,
      "outputs": []
    },
    {
      "cell_type": "code",
      "metadata": {
        "id": "ep89YpbUWIIU"
      },
      "source": [
        "from sklearn.metrics import accuracy_score"
      ],
      "execution_count": 678,
      "outputs": []
    },
    {
      "cell_type": "code",
      "metadata": {
        "colab": {
          "base_uri": "https://localhost:8080/"
        },
        "id": "arpbA81AWKmK",
        "outputId": "20741a7d-3671-437c-b2bd-e49436f4dd33"
      },
      "source": [
        "accuracy_score(y_test, y_pred)"
      ],
      "execution_count": 679,
      "outputs": [
        {
          "output_type": "execute_result",
          "data": {
            "text/plain": [
              "0.5949367088607594"
            ]
          },
          "metadata": {},
          "execution_count": 679
        }
      ]
    },
    {
      "cell_type": "markdown",
      "metadata": {
        "id": "LWG7iErw_jes"
      },
      "source": [
        "# Summary"
      ]
    },
    {
      "cell_type": "markdown",
      "metadata": {
        "id": "DLMSLFSP_pTY"
      },
      "source": [
        ""
      ]
    }
  ]
}